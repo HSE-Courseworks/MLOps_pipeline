{
 "nbformat": 4,
 "nbformat_minor": 0,
 "metadata": {
  "colab": {
   "provenance": []
  },
  "kernelspec": {
   "name": "python3",
   "display_name": "Python 3"
  },
  "language_info": {
   "name": "python"
  }
 },
 "cells": [
  {
   "cell_type": "code",
   "source": [
    "import pandas as pd"
   ],
   "metadata": {
    "id": "GMxtuaekZcY5"
   },
   "execution_count": 1,
   "outputs": []
  },
  {
   "cell_type": "markdown",
   "source": [
    "загрузка датасета"
   ],
   "metadata": {
    "id": "QTOLDWG0XAu7"
   }
  },
  {
   "cell_type": "code",
   "source": [
    "!wget --no-check-certificate 'https://docs.google.com/uc?export=download&id=19UAXN1hoh7xFcLVMVVk7gpSezH70jtJ7' -O database.db"
   ],
   "metadata": {
    "id": "cUtPGxWYrfg9",
    "colab": {
     "base_uri": "https://localhost:8080/"
    },
    "outputId": "7af0bb66-dfd6-4532-f0cc-bd2f23c81a2a"
   },
   "execution_count": 2,
   "outputs": [
    {
     "output_type": "stream",
     "name": "stdout",
     "text": [
      "--2024-04-14 20:25:13--  https://docs.google.com/uc?export=download&id=19UAXN1hoh7xFcLVMVVk7gpSezH70jtJ7\n",
      "Resolving docs.google.com (docs.google.com)... 142.250.159.100, 142.250.159.101, 142.250.159.139, ...\n",
      "Connecting to docs.google.com (docs.google.com)|142.250.159.100|:443... connected.\n",
      "HTTP request sent, awaiting response... 303 See Other\n",
      "Location: https://drive.usercontent.google.com/download?id=19UAXN1hoh7xFcLVMVVk7gpSezH70jtJ7&export=download [following]\n",
      "--2024-04-14 20:25:13--  https://drive.usercontent.google.com/download?id=19UAXN1hoh7xFcLVMVVk7gpSezH70jtJ7&export=download\n",
      "Resolving drive.usercontent.google.com (drive.usercontent.google.com)... 173.194.194.132, 2607:f8b0:4001:c10::84\n",
      "Connecting to drive.usercontent.google.com (drive.usercontent.google.com)|173.194.194.132|:443... connected.\n",
      "HTTP request sent, awaiting response... 200 OK\n",
      "Length: 11632640 (11M) [application/octet-stream]\n",
      "Saving to: ‘database.db’\n",
      "\n",
      "database.db         100%[===================>]  11.09M  66.4MB/s    in 0.2s    \n",
      "\n",
      "2024-04-14 20:25:14 (66.4 MB/s) - ‘database.db’ saved [11632640/11632640]\n",
      "\n"
     ]
    }
   ]
  },
  {
   "cell_type": "code",
   "source": [
    "import sqlite3\n",
    "\n",
    "db_con = sqlite3.connect(\"./database.db\")\n",
    "cur = db_con.cursor()"
   ],
   "metadata": {
    "id": "S13i_Lq4dw0M"
   },
   "execution_count": 3,
   "outputs": []
  },
  {
   "cell_type": "code",
   "source": [
    "cur.execute(\"\"\"\n",
    "    SELECT post_text\n",
    "    FROM 'posts'\n",
    "    ORDER BY post_id\n",
    "\"\"\")"
   ],
   "metadata": {
    "id": "g9hbgUStfAD3",
    "colab": {
     "base_uri": "https://localhost:8080/"
    },
    "outputId": "fbd42803-c6a0-493a-b238-a07e0ae4d8ad"
   },
   "execution_count": 4,
   "outputs": [
    {
     "output_type": "execute_result",
     "data": {
      "text/plain": [
       "<sqlite3.Cursor at 0x7866c823f040>"
      ]
     },
     "metadata": {},
     "execution_count": 4
    }
   ]
  },
  {
   "cell_type": "code",
   "source": [
    "data = pd.DataFrame(cur.fetchall(), columns=['post_text'])"
   ],
   "metadata": {
    "id": "5kT9EPJWi8vM"
   },
   "execution_count": 5,
   "outputs": []
  },
  {
   "cell_type": "code",
   "source": [
    "data"
   ],
   "metadata": {
    "id": "X9_6Cl54dDey",
    "colab": {
     "base_uri": "https://localhost:8080/",
     "height": 424
    },
    "outputId": "1fb7fcc5-fc24-4f0b-f879-3090ae818e95"
   },
   "execution_count": 6,
   "outputs": [
    {
     "output_type": "execute_result",
     "data": {
      "text/plain": [
       "                                               post_text\n",
       "0                                                   None\n",
       "1      🛢Нефть Вrent на лондонской бирже ICE впервые с...\n",
       "2      ❗️Омбудсмена Татьяну Москалькову госпитализиро...\n",
       "3      🪶Путин подписал закон о внесудебной блокировке...\n",
       "4      🤷🏻‍♂️После введения системы QR-кодов количеств...\n",
       "...                                                  ...\n",
       "15218  😦 В ЖК бизнес-класса «Крылья» обнаружили хосте...\n",
       "15219  💳 Оформите карту UnionPay от Газпромбанка для ...\n",
       "15220  😱 Три автомобиля попали в жёсткую аварию на 50...\n",
       "15221            ⚡️ Момент жуткой аварии попал на видео.\n",
       "15222       🎅 Кто-то в этом году себя ооочень хорошо вёл\n",
       "\n",
       "[15223 rows x 1 columns]"
      ],
      "text/html": [
       "\n",
       "  <div id=\"df-d079bf36-6b20-4720-84dd-ff58437e7246\" class=\"colab-df-container\">\n",
       "    <div>\n",
       "<style scoped>\n",
       "    .dataframe tbody tr th:only-of-type {\n",
       "        vertical-align: middle;\n",
       "    }\n",
       "\n",
       "    .dataframe tbody tr th {\n",
       "        vertical-align: top;\n",
       "    }\n",
       "\n",
       "    .dataframe thead th {\n",
       "        text-align: right;\n",
       "    }\n",
       "</style>\n",
       "<table border=\"1\" class=\"dataframe\">\n",
       "  <thead>\n",
       "    <tr style=\"text-align: right;\">\n",
       "      <th></th>\n",
       "      <th>post_text</th>\n",
       "    </tr>\n",
       "  </thead>\n",
       "  <tbody>\n",
       "    <tr>\n",
       "      <th>0</th>\n",
       "      <td>None</td>\n",
       "    </tr>\n",
       "    <tr>\n",
       "      <th>1</th>\n",
       "      <td>🛢Нефть Вrent на лондонской бирже ICE впервые с...</td>\n",
       "    </tr>\n",
       "    <tr>\n",
       "      <th>2</th>\n",
       "      <td>❗️Омбудсмена Татьяну Москалькову госпитализиро...</td>\n",
       "    </tr>\n",
       "    <tr>\n",
       "      <th>3</th>\n",
       "      <td>🪶Путин подписал закон о внесудебной блокировке...</td>\n",
       "    </tr>\n",
       "    <tr>\n",
       "      <th>4</th>\n",
       "      <td>🤷🏻‍♂️После введения системы QR-кодов количеств...</td>\n",
       "    </tr>\n",
       "    <tr>\n",
       "      <th>...</th>\n",
       "      <td>...</td>\n",
       "    </tr>\n",
       "    <tr>\n",
       "      <th>15218</th>\n",
       "      <td>😦 В ЖК бизнес-класса «Крылья» обнаружили хосте...</td>\n",
       "    </tr>\n",
       "    <tr>\n",
       "      <th>15219</th>\n",
       "      <td>💳 Оформите карту UnionPay от Газпромбанка для ...</td>\n",
       "    </tr>\n",
       "    <tr>\n",
       "      <th>15220</th>\n",
       "      <td>😱 Три автомобиля попали в жёсткую аварию на 50...</td>\n",
       "    </tr>\n",
       "    <tr>\n",
       "      <th>15221</th>\n",
       "      <td>⚡️ Момент жуткой аварии попал на видео.</td>\n",
       "    </tr>\n",
       "    <tr>\n",
       "      <th>15222</th>\n",
       "      <td>🎅 Кто-то в этом году себя ооочень хорошо вёл</td>\n",
       "    </tr>\n",
       "  </tbody>\n",
       "</table>\n",
       "<p>15223 rows × 1 columns</p>\n",
       "</div>\n",
       "    <div class=\"colab-df-buttons\">\n",
       "\n",
       "  <div class=\"colab-df-container\">\n",
       "    <button class=\"colab-df-convert\" onclick=\"convertToInteractive('df-d079bf36-6b20-4720-84dd-ff58437e7246')\"\n",
       "            title=\"Convert this dataframe to an interactive table.\"\n",
       "            style=\"display:none;\">\n",
       "\n",
       "  <svg xmlns=\"http://www.w3.org/2000/svg\" height=\"24px\" viewBox=\"0 -960 960 960\">\n",
       "    <path d=\"M120-120v-720h720v720H120Zm60-500h600v-160H180v160Zm220 220h160v-160H400v160Zm0 220h160v-160H400v160ZM180-400h160v-160H180v160Zm440 0h160v-160H620v160ZM180-180h160v-160H180v160Zm440 0h160v-160H620v160Z\"/>\n",
       "  </svg>\n",
       "    </button>\n",
       "\n",
       "  <style>\n",
       "    .colab-df-container {\n",
       "      display:flex;\n",
       "      gap: 12px;\n",
       "    }\n",
       "\n",
       "    .colab-df-convert {\n",
       "      background-color: #E8F0FE;\n",
       "      border: none;\n",
       "      border-radius: 50%;\n",
       "      cursor: pointer;\n",
       "      display: none;\n",
       "      fill: #1967D2;\n",
       "      height: 32px;\n",
       "      padding: 0 0 0 0;\n",
       "      width: 32px;\n",
       "    }\n",
       "\n",
       "    .colab-df-convert:hover {\n",
       "      background-color: #E2EBFA;\n",
       "      box-shadow: 0px 1px 2px rgba(60, 64, 67, 0.3), 0px 1px 3px 1px rgba(60, 64, 67, 0.15);\n",
       "      fill: #174EA6;\n",
       "    }\n",
       "\n",
       "    .colab-df-buttons div {\n",
       "      margin-bottom: 4px;\n",
       "    }\n",
       "\n",
       "    [theme=dark] .colab-df-convert {\n",
       "      background-color: #3B4455;\n",
       "      fill: #D2E3FC;\n",
       "    }\n",
       "\n",
       "    [theme=dark] .colab-df-convert:hover {\n",
       "      background-color: #434B5C;\n",
       "      box-shadow: 0px 1px 3px 1px rgba(0, 0, 0, 0.15);\n",
       "      filter: drop-shadow(0px 1px 2px rgba(0, 0, 0, 0.3));\n",
       "      fill: #FFFFFF;\n",
       "    }\n",
       "  </style>\n",
       "\n",
       "    <script>\n",
       "      const buttonEl =\n",
       "        document.querySelector('#df-d079bf36-6b20-4720-84dd-ff58437e7246 button.colab-df-convert');\n",
       "      buttonEl.style.display =\n",
       "        google.colab.kernel.accessAllowed ? 'block' : 'none';\n",
       "\n",
       "      async function convertToInteractive(key) {\n",
       "        const element = document.querySelector('#df-d079bf36-6b20-4720-84dd-ff58437e7246');\n",
       "        const dataTable =\n",
       "          await google.colab.kernel.invokeFunction('convertToInteractive',\n",
       "                                                    [key], {});\n",
       "        if (!dataTable) return;\n",
       "\n",
       "        const docLinkHtml = 'Like what you see? Visit the ' +\n",
       "          '<a target=\"_blank\" href=https://colab.research.google.com/notebooks/data_table.ipynb>data table notebook</a>'\n",
       "          + ' to learn more about interactive tables.';\n",
       "        element.innerHTML = '';\n",
       "        dataTable['output_type'] = 'display_data';\n",
       "        await google.colab.output.renderOutput(dataTable, element);\n",
       "        const docLink = document.createElement('div');\n",
       "        docLink.innerHTML = docLinkHtml;\n",
       "        element.appendChild(docLink);\n",
       "      }\n",
       "    </script>\n",
       "  </div>\n",
       "\n",
       "\n",
       "<div id=\"df-c6077dce-01be-425c-94f7-c917a8005757\">\n",
       "  <button class=\"colab-df-quickchart\" onclick=\"quickchart('df-c6077dce-01be-425c-94f7-c917a8005757')\"\n",
       "            title=\"Suggest charts\"\n",
       "            style=\"display:none;\">\n",
       "\n",
       "<svg xmlns=\"http://www.w3.org/2000/svg\" height=\"24px\"viewBox=\"0 0 24 24\"\n",
       "     width=\"24px\">\n",
       "    <g>\n",
       "        <path d=\"M19 3H5c-1.1 0-2 .9-2 2v14c0 1.1.9 2 2 2h14c1.1 0 2-.9 2-2V5c0-1.1-.9-2-2-2zM9 17H7v-7h2v7zm4 0h-2V7h2v10zm4 0h-2v-4h2v4z\"/>\n",
       "    </g>\n",
       "</svg>\n",
       "  </button>\n",
       "\n",
       "<style>\n",
       "  .colab-df-quickchart {\n",
       "      --bg-color: #E8F0FE;\n",
       "      --fill-color: #1967D2;\n",
       "      --hover-bg-color: #E2EBFA;\n",
       "      --hover-fill-color: #174EA6;\n",
       "      --disabled-fill-color: #AAA;\n",
       "      --disabled-bg-color: #DDD;\n",
       "  }\n",
       "\n",
       "  [theme=dark] .colab-df-quickchart {\n",
       "      --bg-color: #3B4455;\n",
       "      --fill-color: #D2E3FC;\n",
       "      --hover-bg-color: #434B5C;\n",
       "      --hover-fill-color: #FFFFFF;\n",
       "      --disabled-bg-color: #3B4455;\n",
       "      --disabled-fill-color: #666;\n",
       "  }\n",
       "\n",
       "  .colab-df-quickchart {\n",
       "    background-color: var(--bg-color);\n",
       "    border: none;\n",
       "    border-radius: 50%;\n",
       "    cursor: pointer;\n",
       "    display: none;\n",
       "    fill: var(--fill-color);\n",
       "    height: 32px;\n",
       "    padding: 0;\n",
       "    width: 32px;\n",
       "  }\n",
       "\n",
       "  .colab-df-quickchart:hover {\n",
       "    background-color: var(--hover-bg-color);\n",
       "    box-shadow: 0 1px 2px rgba(60, 64, 67, 0.3), 0 1px 3px 1px rgba(60, 64, 67, 0.15);\n",
       "    fill: var(--button-hover-fill-color);\n",
       "  }\n",
       "\n",
       "  .colab-df-quickchart-complete:disabled,\n",
       "  .colab-df-quickchart-complete:disabled:hover {\n",
       "    background-color: var(--disabled-bg-color);\n",
       "    fill: var(--disabled-fill-color);\n",
       "    box-shadow: none;\n",
       "  }\n",
       "\n",
       "  .colab-df-spinner {\n",
       "    border: 2px solid var(--fill-color);\n",
       "    border-color: transparent;\n",
       "    border-bottom-color: var(--fill-color);\n",
       "    animation:\n",
       "      spin 1s steps(1) infinite;\n",
       "  }\n",
       "\n",
       "  @keyframes spin {\n",
       "    0% {\n",
       "      border-color: transparent;\n",
       "      border-bottom-color: var(--fill-color);\n",
       "      border-left-color: var(--fill-color);\n",
       "    }\n",
       "    20% {\n",
       "      border-color: transparent;\n",
       "      border-left-color: var(--fill-color);\n",
       "      border-top-color: var(--fill-color);\n",
       "    }\n",
       "    30% {\n",
       "      border-color: transparent;\n",
       "      border-left-color: var(--fill-color);\n",
       "      border-top-color: var(--fill-color);\n",
       "      border-right-color: var(--fill-color);\n",
       "    }\n",
       "    40% {\n",
       "      border-color: transparent;\n",
       "      border-right-color: var(--fill-color);\n",
       "      border-top-color: var(--fill-color);\n",
       "    }\n",
       "    60% {\n",
       "      border-color: transparent;\n",
       "      border-right-color: var(--fill-color);\n",
       "    }\n",
       "    80% {\n",
       "      border-color: transparent;\n",
       "      border-right-color: var(--fill-color);\n",
       "      border-bottom-color: var(--fill-color);\n",
       "    }\n",
       "    90% {\n",
       "      border-color: transparent;\n",
       "      border-bottom-color: var(--fill-color);\n",
       "    }\n",
       "  }\n",
       "</style>\n",
       "\n",
       "  <script>\n",
       "    async function quickchart(key) {\n",
       "      const quickchartButtonEl =\n",
       "        document.querySelector('#' + key + ' button');\n",
       "      quickchartButtonEl.disabled = true;  // To prevent multiple clicks.\n",
       "      quickchartButtonEl.classList.add('colab-df-spinner');\n",
       "      try {\n",
       "        const charts = await google.colab.kernel.invokeFunction(\n",
       "            'suggestCharts', [key], {});\n",
       "      } catch (error) {\n",
       "        console.error('Error during call to suggestCharts:', error);\n",
       "      }\n",
       "      quickchartButtonEl.classList.remove('colab-df-spinner');\n",
       "      quickchartButtonEl.classList.add('colab-df-quickchart-complete');\n",
       "    }\n",
       "    (() => {\n",
       "      let quickchartButtonEl =\n",
       "        document.querySelector('#df-c6077dce-01be-425c-94f7-c917a8005757 button');\n",
       "      quickchartButtonEl.style.display =\n",
       "        google.colab.kernel.accessAllowed ? 'block' : 'none';\n",
       "    })();\n",
       "  </script>\n",
       "</div>\n",
       "    </div>\n",
       "  </div>\n"
      ],
      "application/vnd.google.colaboratory.intrinsic+json": {
       "type": "dataframe",
       "variable_name": "data",
       "summary": "{\n  \"name\": \"data\",\n  \"rows\": 15223,\n  \"fields\": [\n    {\n      \"column\": \"post_text\",\n      \"properties\": {\n        \"dtype\": \"string\",\n        \"num_unique_values\": 14961,\n        \"samples\": [\n          \"\\ud83d\\udcc9 \\u0414\\u043e\\u043b\\u043b\\u0430\\u0440 \\u043d\\u0430 \\u041c\\u043e\\u0441\\u0431\\u0438\\u0440\\u0436\\u0435 \\u043e\\u043f\\u0443\\u0441\\u0442\\u0438\\u043b\\u0441\\u044f \\u043d\\u0438\\u0436\\u0435 90 \\u0440\\u0443\\u0431\\u043b\\u0435\\u0439, \\u0435\\u0432\\u0440\\u043e \\u2014 \\u043d\\u0438\\u0436\\u0435 100 \\u0440\\u0443\\u0431\\u043b\\u0435\\u0439.\\n\\n\\ud83d\\udd24 \\u041f\\u043e\\u0434\\u043f\\u0438\\u0441\\u044b\\u0432\\u0430\\u0439\\u0441\\u044f \\u043d\\u0430 \\u041c\\u043e\\u0441\\u043a\\u0432\\u0430\\u0447\",\n          \"\\u26a1\\ufe0f\\u0411\\u0430\\u0439\\u0434\\u0435\\u043d: \\u043c\\u044b \\u043e\\u0433\\u0440\\u0430\\u043d\\u0438\\u0447\\u0438\\u043c \\u0432\\u043e\\u0437\\u043c\\u043e\\u0436\\u043d\\u043e\\u0441\\u0442\\u0438 \\u0420\\u0424 \\u0432\\u0435\\u0441\\u0442\\u0438 \\u0431\\u0438\\u0437\\u043d\\u0435\\u0441 \\u0432 \\u0434\\u043e\\u043b\\u043b\\u0430\\u0440\\u0430\\u0445, \\u0444\\u0443\\u043d\\u0442\\u0430\\u0445 \\u0438 \\u0439\\u0435\\u043d\\u0430\\u0445\",\n          \"\\ud83e\\udd87 \\u041a\\u043e\\u0433\\u0434\\u0430 \\u0442\\u0432\\u043e\\u0451 \\u0442\\u043e\\u0442\\u0435\\u043c\\u043d\\u043e\\u0435 \\u0436\\u0438\\u0432\\u043e\\u0442\\u043d\\u043e\\u0435 \\u2014 \\u043b\\u0435\\u0442\\u0443\\u0447\\u0430\\u044f \\u043c\\u044b\\u0448\\u044c.\"\n        ],\n        \"semantic_type\": \"\",\n        \"description\": \"\"\n      }\n    }\n  ]\n}"
      }
     },
     "metadata": {},
     "execution_count": 6
    }
   ]
  },
  {
   "cell_type": "markdown",
   "source": [
    "# remove emoji"
   ],
   "metadata": {
    "id": "ZhU3XRask_mC"
   }
  },
  {
   "cell_type": "code",
   "source": [
    "!pip install emoji"
   ],
   "metadata": {
    "id": "324vrSRYdoFq",
    "colab": {
     "base_uri": "https://localhost:8080/"
    },
    "outputId": "fcdc64bd-7f30-4ad6-ec19-f9d0a00fd96d"
   },
   "execution_count": 7,
   "outputs": [
    {
     "output_type": "stream",
     "name": "stdout",
     "text": [
      "Collecting emoji\n",
      "  Downloading emoji-2.11.0-py2.py3-none-any.whl (433 kB)\n",
      "\u001B[2K     \u001B[90m━━━━━━━━━━━━━━━━━━━━━━━━━━━━━━━━━━━━━━━━\u001B[0m \u001B[32m433.8/433.8 kB\u001B[0m \u001B[31m2.7 MB/s\u001B[0m eta \u001B[36m0:00:00\u001B[0m\n",
      "\u001B[?25hInstalling collected packages: emoji\n",
      "Successfully installed emoji-2.11.0\n"
     ]
    }
   ]
  },
  {
   "cell_type": "code",
   "source": [
    "import emoji\n",
    "def remove_emoji(text):\n",
    "    return emoji.replace_emoji(text[0],'')"
   ],
   "metadata": {
    "id": "IzDZdxCxcuyW"
   },
   "execution_count": 8,
   "outputs": []
  },
  {
   "cell_type": "code",
   "source": [
    "cdata = pd.DataFrame(data.apply(remove_emoji,axis=1))"
   ],
   "metadata": {
    "id": "Uf5UIR77d2tv"
   },
   "execution_count": 9,
   "outputs": []
  },
  {
   "cell_type": "code",
   "source": [
    "cdata"
   ],
   "metadata": {
    "id": "QCUqwcGBJG_-",
    "colab": {
     "base_uri": "https://localhost:8080/",
     "height": 424
    },
    "outputId": "b188d9de-75b0-48ec-c483-32f27332665d"
   },
   "execution_count": 10,
   "outputs": [
    {
     "output_type": "execute_result",
     "data": {
      "text/plain": [
       "                                                       0\n",
       "0                                                   None\n",
       "1      Нефть Вrent на лондонской бирже ICE впервые с ...\n",
       "2      Омбудсмена Татьяну Москалькову госпитализирова...\n",
       "3      Путин подписал закон о внесудебной блокировке ...\n",
       "4      После введения системы QR-кодов количество при...\n",
       "...                                                  ...\n",
       "15218   В ЖК бизнес-класса «Крылья» обнаружили хостел...\n",
       "15219   Оформите карту UnionPay от Газпромбанка для п...\n",
       "15220   Три автомобиля попали в жёсткую аварию на 50-...\n",
       "15221               Момент жуткой аварии попал на видео.\n",
       "15222         Кто-то в этом году себя ооочень хорошо вёл\n",
       "\n",
       "[15223 rows x 1 columns]"
      ],
      "text/html": [
       "\n",
       "  <div id=\"df-7d7c0987-ad8a-4222-8b90-3ad0aae67280\" class=\"colab-df-container\">\n",
       "    <div>\n",
       "<style scoped>\n",
       "    .dataframe tbody tr th:only-of-type {\n",
       "        vertical-align: middle;\n",
       "    }\n",
       "\n",
       "    .dataframe tbody tr th {\n",
       "        vertical-align: top;\n",
       "    }\n",
       "\n",
       "    .dataframe thead th {\n",
       "        text-align: right;\n",
       "    }\n",
       "</style>\n",
       "<table border=\"1\" class=\"dataframe\">\n",
       "  <thead>\n",
       "    <tr style=\"text-align: right;\">\n",
       "      <th></th>\n",
       "      <th>0</th>\n",
       "    </tr>\n",
       "  </thead>\n",
       "  <tbody>\n",
       "    <tr>\n",
       "      <th>0</th>\n",
       "      <td>None</td>\n",
       "    </tr>\n",
       "    <tr>\n",
       "      <th>1</th>\n",
       "      <td>Нефть Вrent на лондонской бирже ICE впервые с ...</td>\n",
       "    </tr>\n",
       "    <tr>\n",
       "      <th>2</th>\n",
       "      <td>Омбудсмена Татьяну Москалькову госпитализирова...</td>\n",
       "    </tr>\n",
       "    <tr>\n",
       "      <th>3</th>\n",
       "      <td>Путин подписал закон о внесудебной блокировке ...</td>\n",
       "    </tr>\n",
       "    <tr>\n",
       "      <th>4</th>\n",
       "      <td>После введения системы QR-кодов количество при...</td>\n",
       "    </tr>\n",
       "    <tr>\n",
       "      <th>...</th>\n",
       "      <td>...</td>\n",
       "    </tr>\n",
       "    <tr>\n",
       "      <th>15218</th>\n",
       "      <td>В ЖК бизнес-класса «Крылья» обнаружили хостел...</td>\n",
       "    </tr>\n",
       "    <tr>\n",
       "      <th>15219</th>\n",
       "      <td>Оформите карту UnionPay от Газпромбанка для п...</td>\n",
       "    </tr>\n",
       "    <tr>\n",
       "      <th>15220</th>\n",
       "      <td>Три автомобиля попали в жёсткую аварию на 50-...</td>\n",
       "    </tr>\n",
       "    <tr>\n",
       "      <th>15221</th>\n",
       "      <td>Момент жуткой аварии попал на видео.</td>\n",
       "    </tr>\n",
       "    <tr>\n",
       "      <th>15222</th>\n",
       "      <td>Кто-то в этом году себя ооочень хорошо вёл</td>\n",
       "    </tr>\n",
       "  </tbody>\n",
       "</table>\n",
       "<p>15223 rows × 1 columns</p>\n",
       "</div>\n",
       "    <div class=\"colab-df-buttons\">\n",
       "\n",
       "  <div class=\"colab-df-container\">\n",
       "    <button class=\"colab-df-convert\" onclick=\"convertToInteractive('df-7d7c0987-ad8a-4222-8b90-3ad0aae67280')\"\n",
       "            title=\"Convert this dataframe to an interactive table.\"\n",
       "            style=\"display:none;\">\n",
       "\n",
       "  <svg xmlns=\"http://www.w3.org/2000/svg\" height=\"24px\" viewBox=\"0 -960 960 960\">\n",
       "    <path d=\"M120-120v-720h720v720H120Zm60-500h600v-160H180v160Zm220 220h160v-160H400v160Zm0 220h160v-160H400v160ZM180-400h160v-160H180v160Zm440 0h160v-160H620v160ZM180-180h160v-160H180v160Zm440 0h160v-160H620v160Z\"/>\n",
       "  </svg>\n",
       "    </button>\n",
       "\n",
       "  <style>\n",
       "    .colab-df-container {\n",
       "      display:flex;\n",
       "      gap: 12px;\n",
       "    }\n",
       "\n",
       "    .colab-df-convert {\n",
       "      background-color: #E8F0FE;\n",
       "      border: none;\n",
       "      border-radius: 50%;\n",
       "      cursor: pointer;\n",
       "      display: none;\n",
       "      fill: #1967D2;\n",
       "      height: 32px;\n",
       "      padding: 0 0 0 0;\n",
       "      width: 32px;\n",
       "    }\n",
       "\n",
       "    .colab-df-convert:hover {\n",
       "      background-color: #E2EBFA;\n",
       "      box-shadow: 0px 1px 2px rgba(60, 64, 67, 0.3), 0px 1px 3px 1px rgba(60, 64, 67, 0.15);\n",
       "      fill: #174EA6;\n",
       "    }\n",
       "\n",
       "    .colab-df-buttons div {\n",
       "      margin-bottom: 4px;\n",
       "    }\n",
       "\n",
       "    [theme=dark] .colab-df-convert {\n",
       "      background-color: #3B4455;\n",
       "      fill: #D2E3FC;\n",
       "    }\n",
       "\n",
       "    [theme=dark] .colab-df-convert:hover {\n",
       "      background-color: #434B5C;\n",
       "      box-shadow: 0px 1px 3px 1px rgba(0, 0, 0, 0.15);\n",
       "      filter: drop-shadow(0px 1px 2px rgba(0, 0, 0, 0.3));\n",
       "      fill: #FFFFFF;\n",
       "    }\n",
       "  </style>\n",
       "\n",
       "    <script>\n",
       "      const buttonEl =\n",
       "        document.querySelector('#df-7d7c0987-ad8a-4222-8b90-3ad0aae67280 button.colab-df-convert');\n",
       "      buttonEl.style.display =\n",
       "        google.colab.kernel.accessAllowed ? 'block' : 'none';\n",
       "\n",
       "      async function convertToInteractive(key) {\n",
       "        const element = document.querySelector('#df-7d7c0987-ad8a-4222-8b90-3ad0aae67280');\n",
       "        const dataTable =\n",
       "          await google.colab.kernel.invokeFunction('convertToInteractive',\n",
       "                                                    [key], {});\n",
       "        if (!dataTable) return;\n",
       "\n",
       "        const docLinkHtml = 'Like what you see? Visit the ' +\n",
       "          '<a target=\"_blank\" href=https://colab.research.google.com/notebooks/data_table.ipynb>data table notebook</a>'\n",
       "          + ' to learn more about interactive tables.';\n",
       "        element.innerHTML = '';\n",
       "        dataTable['output_type'] = 'display_data';\n",
       "        await google.colab.output.renderOutput(dataTable, element);\n",
       "        const docLink = document.createElement('div');\n",
       "        docLink.innerHTML = docLinkHtml;\n",
       "        element.appendChild(docLink);\n",
       "      }\n",
       "    </script>\n",
       "  </div>\n",
       "\n",
       "\n",
       "<div id=\"df-22827999-2097-4642-a1fd-674d19887b38\">\n",
       "  <button class=\"colab-df-quickchart\" onclick=\"quickchart('df-22827999-2097-4642-a1fd-674d19887b38')\"\n",
       "            title=\"Suggest charts\"\n",
       "            style=\"display:none;\">\n",
       "\n",
       "<svg xmlns=\"http://www.w3.org/2000/svg\" height=\"24px\"viewBox=\"0 0 24 24\"\n",
       "     width=\"24px\">\n",
       "    <g>\n",
       "        <path d=\"M19 3H5c-1.1 0-2 .9-2 2v14c0 1.1.9 2 2 2h14c1.1 0 2-.9 2-2V5c0-1.1-.9-2-2-2zM9 17H7v-7h2v7zm4 0h-2V7h2v10zm4 0h-2v-4h2v4z\"/>\n",
       "    </g>\n",
       "</svg>\n",
       "  </button>\n",
       "\n",
       "<style>\n",
       "  .colab-df-quickchart {\n",
       "      --bg-color: #E8F0FE;\n",
       "      --fill-color: #1967D2;\n",
       "      --hover-bg-color: #E2EBFA;\n",
       "      --hover-fill-color: #174EA6;\n",
       "      --disabled-fill-color: #AAA;\n",
       "      --disabled-bg-color: #DDD;\n",
       "  }\n",
       "\n",
       "  [theme=dark] .colab-df-quickchart {\n",
       "      --bg-color: #3B4455;\n",
       "      --fill-color: #D2E3FC;\n",
       "      --hover-bg-color: #434B5C;\n",
       "      --hover-fill-color: #FFFFFF;\n",
       "      --disabled-bg-color: #3B4455;\n",
       "      --disabled-fill-color: #666;\n",
       "  }\n",
       "\n",
       "  .colab-df-quickchart {\n",
       "    background-color: var(--bg-color);\n",
       "    border: none;\n",
       "    border-radius: 50%;\n",
       "    cursor: pointer;\n",
       "    display: none;\n",
       "    fill: var(--fill-color);\n",
       "    height: 32px;\n",
       "    padding: 0;\n",
       "    width: 32px;\n",
       "  }\n",
       "\n",
       "  .colab-df-quickchart:hover {\n",
       "    background-color: var(--hover-bg-color);\n",
       "    box-shadow: 0 1px 2px rgba(60, 64, 67, 0.3), 0 1px 3px 1px rgba(60, 64, 67, 0.15);\n",
       "    fill: var(--button-hover-fill-color);\n",
       "  }\n",
       "\n",
       "  .colab-df-quickchart-complete:disabled,\n",
       "  .colab-df-quickchart-complete:disabled:hover {\n",
       "    background-color: var(--disabled-bg-color);\n",
       "    fill: var(--disabled-fill-color);\n",
       "    box-shadow: none;\n",
       "  }\n",
       "\n",
       "  .colab-df-spinner {\n",
       "    border: 2px solid var(--fill-color);\n",
       "    border-color: transparent;\n",
       "    border-bottom-color: var(--fill-color);\n",
       "    animation:\n",
       "      spin 1s steps(1) infinite;\n",
       "  }\n",
       "\n",
       "  @keyframes spin {\n",
       "    0% {\n",
       "      border-color: transparent;\n",
       "      border-bottom-color: var(--fill-color);\n",
       "      border-left-color: var(--fill-color);\n",
       "    }\n",
       "    20% {\n",
       "      border-color: transparent;\n",
       "      border-left-color: var(--fill-color);\n",
       "      border-top-color: var(--fill-color);\n",
       "    }\n",
       "    30% {\n",
       "      border-color: transparent;\n",
       "      border-left-color: var(--fill-color);\n",
       "      border-top-color: var(--fill-color);\n",
       "      border-right-color: var(--fill-color);\n",
       "    }\n",
       "    40% {\n",
       "      border-color: transparent;\n",
       "      border-right-color: var(--fill-color);\n",
       "      border-top-color: var(--fill-color);\n",
       "    }\n",
       "    60% {\n",
       "      border-color: transparent;\n",
       "      border-right-color: var(--fill-color);\n",
       "    }\n",
       "    80% {\n",
       "      border-color: transparent;\n",
       "      border-right-color: var(--fill-color);\n",
       "      border-bottom-color: var(--fill-color);\n",
       "    }\n",
       "    90% {\n",
       "      border-color: transparent;\n",
       "      border-bottom-color: var(--fill-color);\n",
       "    }\n",
       "  }\n",
       "</style>\n",
       "\n",
       "  <script>\n",
       "    async function quickchart(key) {\n",
       "      const quickchartButtonEl =\n",
       "        document.querySelector('#' + key + ' button');\n",
       "      quickchartButtonEl.disabled = true;  // To prevent multiple clicks.\n",
       "      quickchartButtonEl.classList.add('colab-df-spinner');\n",
       "      try {\n",
       "        const charts = await google.colab.kernel.invokeFunction(\n",
       "            'suggestCharts', [key], {});\n",
       "      } catch (error) {\n",
       "        console.error('Error during call to suggestCharts:', error);\n",
       "      }\n",
       "      quickchartButtonEl.classList.remove('colab-df-spinner');\n",
       "      quickchartButtonEl.classList.add('colab-df-quickchart-complete');\n",
       "    }\n",
       "    (() => {\n",
       "      let quickchartButtonEl =\n",
       "        document.querySelector('#df-22827999-2097-4642-a1fd-674d19887b38 button');\n",
       "      quickchartButtonEl.style.display =\n",
       "        google.colab.kernel.accessAllowed ? 'block' : 'none';\n",
       "    })();\n",
       "  </script>\n",
       "</div>\n",
       "    </div>\n",
       "  </div>\n"
      ],
      "application/vnd.google.colaboratory.intrinsic+json": {
       "type": "dataframe",
       "variable_name": "cdata",
       "summary": "{\n  \"name\": \"cdata\",\n  \"rows\": 15223,\n  \"fields\": [\n    {\n      \"column\": 0,\n      \"properties\": {\n        \"dtype\": \"string\",\n        \"num_unique_values\": 14940,\n        \"samples\": [\n          \" \\u0410\\u0432\\u0438\\u0430\\u043a\\u043e\\u043c\\u043f\\u0430\\u043d\\u0438\\u044f Air Baltic \\u043d\\u0430 \\u043c\\u0435\\u0441\\u044f\\u0446 \\u043e\\u0441\\u0442\\u0430\\u043d\\u0430\\u0432\\u043b\\u0438\\u0432\\u0430\\u0435\\u0442 \\u043f\\u043e\\u043b\\u0435\\u0442\\u044b \\u0432 \\u0420\\u043e\\u0441\\u0441\\u0438\\u044e \\u0438 \\u043e\\u0431\\u0440\\u0430\\u0442\\u043d\\u043e.\",\n          \"\\u0412 \\u0421\\u043e\\u0432\\u0435\\u0442\\u0435 \\u0424\\u0435\\u0434\\u0435\\u0440\\u0430\\u0446\\u0438\\u0438 \\u043f\\u0440\\u0435\\u0434\\u043b\\u043e\\u0436\\u0438\\u043b\\u0438 \\u043d\\u0430\\u043a\\u0430\\u0437\\u044b\\u0432\\u0430\\u0442\\u044c \\u0441\\u0440\\u043e\\u043a\\u043e\\u043c \\u0434\\u043e \\u043f\\u044f\\u0442\\u0438 \\u043b\\u0435\\u0442 \\u043b\\u0438\\u0448\\u0435\\u043d\\u0438\\u044f \\u0441\\u0432\\u043e\\u0431\\u043e\\u0434\\u044b \\u0437\\u0430 \\u043d\\u0435\\u043e\\u0434\\u043d\\u043e\\u043a\\u0440\\u0430\\u0442\\u043d\\u043e\\u0435 \\u043d\\u0430\\u0440\\u0443\\u0448\\u0435\\u043d\\u0438\\u0435 \\u043f\\u0440\\u0430\\u0432\\u0438\\u043b \\u0434\\u043e\\u0440\\u043e\\u0436\\u043d\\u043e\\u0433\\u043e \\u0434\\u0432\\u0438\\u0436\\u0435\\u043d\\u0438\\u044f, \\u0432 \\u0442\\u043e\\u043c \\u0447\\u0438\\u0441\\u043b\\u0435 \\u0445\\u0443\\u043b\\u0438\\u0433\\u0430\\u043d\\u0441\\u0442\\u0432\\u043e \\u0438 \\u043b\\u0438\\u0445\\u0430\\u0447\\u0435\\u0441\\u0442\\u0432\\u043e, \\u0442\\u0430\\u043a \\u043a\\u0430\\u043a \\u0448\\u0442\\u0440\\u0430\\u0444\\u044b \\u043d\\u0435 \\u043c\\u0435\\u043d\\u044f\\u044e\\u0442 \\u0441\\u0438\\u0442\\u0443\\u0430\\u0446\\u0438\\u044e \\u043d\\u0430 \\u0434\\u043e\\u0440\\u043e\\u0433\\u0430\\u0445.\\n\\n\\u0427\\u0442\\u043e \\u0434\\u0443\\u043c\\u0430\\u0435\\u0442\\u0435 \\u043f\\u043e \\u043f\\u043e\\u0432\\u043e\\u0434\\u0443 \\u0443\\u0436\\u0435\\u0441\\u0442\\u043e\\u0447\\u0435\\u043d\\u0438\\u044f \\u043d\\u0430\\u043a\\u0430\\u0437\\u0430\\u043d\\u0438\\u044f?\",\n          \" \\u0410\\u043b\\u044c\\u0444\\u0430-\\u0411\\u0430\\u043d\\u043a \\u0441\\u0434\\u0435\\u043b\\u0430\\u043b \\u0441\\u0432\\u043e\\u0439 \\u043f\\u043b\\u0430\\u0442\\u0451\\u0436\\u043d\\u044b\\u0439 \\u0441\\u0442\\u0438\\u043a\\u0435\\u0440 \\u0441 \\u043a\\u043e\\u0442\\u0438\\u043a\\u043e\\u043c \\u0431\\u0435\\u0441\\u043f\\u043b\\u0430\\u0442\\u043d\\u044b\\u043c \\u043d\\u0430\\u0432\\u0441\\u0435\\u0433\\u0434\\u0430 \\u0434\\u043b\\u044f \\u0432\\u0441\\u0435\\u0445, \\u043a\\u0442\\u043e \\u0443\\u0441\\u043f\\u0435\\u0435\\u0442 \\u0437\\u0430\\u043a\\u0430\\u0437\\u0430\\u0442\\u044c \\u0435\\u0433\\u043e \\u0434\\u043e 30 \\u0438\\u044e\\u043d\\u044f. \\n\\n\\u0421 \\u043f\\u043e\\u043c\\u043e\\u0449\\u044c\\u044e \\u043d\\u0435\\u0433\\u043e \\u043c\\u043e\\u0436\\u043d\\u043e \\u043f\\u043b\\u0430\\u0442\\u0438\\u0442\\u044c \\u0431\\u0435\\u0441\\u043a\\u043e\\u043d\\u0442\\u0430\\u043a\\u0442\\u043d\\u043e, \\u043a\\u0430\\u043a \\u0440\\u0430\\u043d\\u044c\\u0448\\u0435. \\u0417\\u0430\\u043f\\u043e\\u043b\\u043d\\u0435\\u043d\\u0438\\u0435 \\u0437\\u0430\\u044f\\u0432\\u043a\\u0438 \\u0437\\u0430\\u0439\\u043c\\u0451\\u0442 \\u043d\\u0435 \\u0431\\u043e\\u043b\\u044c\\u0448\\u0435 \\u043c\\u0438\\u043d\\u0443\\u0442\\u044b.  \\n\\n \\u041f\\u043e\\u0434\\u043f\\u0438\\u0441\\u044b\\u0432\\u0430\\u0439\\u0441\\u044f \\u043d\\u0430 \\u041c\\u043e\\u0441\\u043a\\u0432\\u0430\\u0447\"\n        ],\n        \"semantic_type\": \"\",\n        \"description\": \"\"\n      }\n    }\n  ]\n}"
      }
     },
     "metadata": {},
     "execution_count": 10
    }
   ]
  },
  {
   "cell_type": "markdown",
   "source": [
    "# lemmatization and stemming"
   ],
   "metadata": {
    "id": "tfVS_zNymm-t"
   }
  },
  {
   "cell_type": "code",
   "source": [
    "!pip install pymorphy2"
   ],
   "metadata": {
    "id": "7MCxu8BOwIgB",
    "colab": {
     "base_uri": "https://localhost:8080/"
    },
    "outputId": "5de31fd9-070b-467a-9d8b-b711ed97ca8c"
   },
   "execution_count": 11,
   "outputs": [
    {
     "output_type": "stream",
     "name": "stdout",
     "text": [
      "Collecting pymorphy2\n",
      "  Downloading pymorphy2-0.9.1-py3-none-any.whl (55 kB)\n",
      "\u001B[2K     \u001B[90m━━━━━━━━━━━━━━━━━━━━━━━━━━━━━━━━━━━━━━━━\u001B[0m \u001B[32m55.5/55.5 kB\u001B[0m \u001B[31m894.6 kB/s\u001B[0m eta \u001B[36m0:00:00\u001B[0m\n",
      "\u001B[?25hCollecting dawg-python>=0.7.1 (from pymorphy2)\n",
      "  Downloading DAWG_Python-0.7.2-py2.py3-none-any.whl (11 kB)\n",
      "Collecting pymorphy2-dicts-ru<3.0,>=2.4 (from pymorphy2)\n",
      "  Downloading pymorphy2_dicts_ru-2.4.417127.4579844-py2.py3-none-any.whl (8.2 MB)\n",
      "\u001B[2K     \u001B[90m━━━━━━━━━━━━━━━━━━━━━━━━━━━━━━━━━━━━━━━━\u001B[0m \u001B[32m8.2/8.2 MB\u001B[0m \u001B[31m26.5 MB/s\u001B[0m eta \u001B[36m0:00:00\u001B[0m\n",
      "\u001B[?25hCollecting docopt>=0.6 (from pymorphy2)\n",
      "  Downloading docopt-0.6.2.tar.gz (25 kB)\n",
      "  Preparing metadata (setup.py) ... \u001B[?25l\u001B[?25hdone\n",
      "Building wheels for collected packages: docopt\n",
      "  Building wheel for docopt (setup.py) ... \u001B[?25l\u001B[?25hdone\n",
      "  Created wheel for docopt: filename=docopt-0.6.2-py2.py3-none-any.whl size=13706 sha256=23ebfeff35891dca7f44c8e32bef4954c50407fbcebc61aac949862ffef60976\n",
      "  Stored in directory: /root/.cache/pip/wheels/fc/ab/d4/5da2067ac95b36618c629a5f93f809425700506f72c9732fac\n",
      "Successfully built docopt\n",
      "Installing collected packages: pymorphy2-dicts-ru, docopt, dawg-python, pymorphy2\n",
      "Successfully installed dawg-python-0.7.2 docopt-0.6.2 pymorphy2-0.9.1 pymorphy2-dicts-ru-2.4.417127.4579844\n"
     ]
    }
   ]
  },
  {
   "cell_type": "markdown",
   "source": [
    "часть скрипта для обработки текста"
   ],
   "metadata": {
    "id": "OpXqR7q3WpJw"
   }
  },
  {
   "cell_type": "code",
   "source": [
    "import pymorphy2\n",
    "import re\n",
    "morph = pymorphy2.MorphAnalyzer()\n",
    "\n",
    "def remove_punctuation(word: str):\n",
    "    return re.sub(r'[.,:;]', '', word)\n",
    "\n",
    "def encode_num(word: str):\n",
    "    if word.isnumeric():\n",
    "        return \"I\" + str(len(word))\n",
    "    elif word[1:].isnumeric():  # обработка чисел вида $*\n",
    "        return word[0] + \"I\" + str(len(word) - 1)\n",
    "    else: # обработка чисел вида *$\n",
    "        return word[-1] + \"I\" + str(len(word) - 1)\n",
    "\n",
    "def lemmatize(data):\n",
    "    text = data[0]\n",
    "    words = text.split() # разбиваем текст на слова\n",
    "    res = []\n",
    "    for word in words:\n",
    "        if word.isnumeric() or word[1:].isnumeric() or word[:-1].isnumeric():\n",
    "            word = encode_num(word)\n",
    "            res.append(word)\n",
    "        else:\n",
    "            word = remove_punctuation(word)\n",
    "            p = morph.parse(word)[0]\n",
    "            res.append(p.normal_form)\n",
    "    return res"
   ],
   "metadata": {
    "id": "E6Vsl4Z5WwpJ"
   },
   "execution_count": 12,
   "outputs": []
  },
  {
   "cell_type": "code",
   "source": [
    "tokenized_data = cdata.apply(lemmatize,axis=1)"
   ],
   "metadata": {
    "id": "kBl1uKBDz1Ad"
   },
   "execution_count": 13,
   "outputs": []
  },
  {
   "cell_type": "code",
   "source": [
    "tokenized_data = tokenized_data[1:]"
   ],
   "metadata": {
    "id": "9qC4iGrSGAek"
   },
   "execution_count": 14,
   "outputs": []
  },
  {
   "cell_type": "code",
   "source": [
    "tokenized_data[:10]"
   ],
   "metadata": {
    "id": "t00YOeb0Hz7a",
    "colab": {
     "base_uri": "https://localhost:8080/"
    },
    "outputId": "fb781ba7-a1d3-4aed-b8b0-7cf975cff08f"
   },
   "execution_count": 15,
   "outputs": [
    {
     "output_type": "execute_result",
     "data": {
      "text/plain": [
       "1        [нефть, вrent, на, лондонский, биржа, ice, впе...\n",
       "2        [омбудсмен, татьяна, москальков, госпитализиро...\n",
       "3        [путин, подписать, закон, о, внесудебный, блок...\n",
       "4        [после, введение, система, qr-код, количество,...\n",
       "5        [германия, с, I1, июль, ослабить, ковид-ограни...\n",
       "                               ...                        \n",
       "15218    [в, жк, бизнес-класс, «крылья», обнаружить, хо...\n",
       "15219    [оформить, карта, unionpay, от, газпромбанк, д...\n",
       "15220    [три, автомобиль, попасть, в, жёсткий, авария,...\n",
       "15221         [момент, жуткий, авария, попасть, на, видео]\n",
       "15222    [кто-то, в, это, год, себя, ооочень, хорошо, в...\n",
       "Length: 15222, dtype: object"
      ]
     },
     "metadata": {},
     "execution_count": 15
    }
   ]
  },
  {
   "cell_type": "code",
   "source": [
    "tokenized_list = tokenized_data.to_list()"
   ],
   "metadata": {
    "id": "TxM7PiF1IOLo"
   },
   "execution_count": 16,
   "outputs": []
  },
  {
   "cell_type": "markdown",
   "source": [
    "#Обучение word2vec"
   ],
   "metadata": {
    "id": "1IfgHKXkGWu3"
   }
  },
  {
   "cell_type": "code",
   "source": [
    "from gensim.models.word2vec import Word2Vec\n",
    "from gensim.utils import effective_n_jobs\n",
    "model = Word2Vec(sentences = tokenized_list,\n",
    "                 sg=1,\n",
    "                 window=7,\n",
    "                 vector_size = 10,\n",
    "                 workers=effective_n_jobs(-1)-1,\n",
    "                 epochs=10)"
   ],
   "metadata": {
    "id": "puf72S1KB6SX"
   },
   "execution_count": 17,
   "outputs": []
  },
  {
   "cell_type": "code",
   "source": [
    "model.save(\"word2vec.model\")"
   ],
   "metadata": {
    "id": "FndSFGSoMgLN"
   },
   "execution_count": 18,
   "outputs": []
  },
  {
   "cell_type": "code",
   "source": [
    "print(model.wv.most_similar(positive=['нефть'], topn=5))"
   ],
   "metadata": {
    "id": "RA0QiVg3NN77",
    "colab": {
     "base_uri": "https://localhost:8080/"
    },
    "outputId": "f43d5d8d-f876-4088-9574-19ac013650bc"
   },
   "execution_count": 19,
   "outputs": [
    {
     "output_type": "stream",
     "name": "stdout",
     "text": [
      "[('фондовый', 0.9466264843940735), ('brent', 0.9419498443603516), ('$I2', 0.9372860789299011), ('рис', 0.9296262264251709), ('посещаемость', 0.9222639799118042)]\n"
     ]
    }
   ]
  },
  {
   "cell_type": "markdown",
   "source": [
    "#Векторное представление всех текстов с помощью word2vec"
   ],
   "metadata": {
    "id": "4vteJBZHQIq0"
   }
  },
  {
   "cell_type": "code",
   "source": [
    "vectors_list = []\n",
    "for i in range(len(tokenized_list)):\n",
    "    vectors = [model.wv.get_vector(word) for word in tokenized_list if word in list(model.wv.index_to_key)]\n",
    "    vectors_list.append(vectors)"
   ],
   "metadata": {
    "id": "5ny6Hv_iQNH9"
   },
   "execution_count": null,
   "outputs": []
  },
  {
   "cell_type": "code",
   "source": [
    "vectors_list"
   ],
   "metadata": {
    "id": "EH14_1eQe4QR"
   },
   "execution_count": null,
   "outputs": []
  },
  {
   "cell_type": "markdown",
   "source": [
    "# Обучение Doc2Vec"
   ],
   "metadata": {
    "id": "aUkLJA5PiiFu"
   }
  },
  {
   "cell_type": "code",
   "source": [
    "from gensim.models.doc2vec import Doc2Vec, TaggedDocument\n",
    "docs = [TaggedDocument(doc, [i]) for i, doc in enumerate(tokenized_list)]\n",
    "from gensim.utils import effective_n_jobs\n",
    "doc2vec = Doc2Vec(documents=docs,vector_size =200,window = 7, epochs = 20, workers = effective_n_jobs(-1)-1)"
   ],
   "metadata": {
    "id": "6Zc6dZWiimMO"
   },
   "execution_count": 21,
   "outputs": []
  },
  {
   "cell_type": "code",
   "source": [
    "doc2vec.save(\"doc2vec.model\")"
   ],
   "metadata": {
    "id": "8mJ-ZaO8kvS1"
   },
   "execution_count": 22,
   "outputs": []
  },
  {
   "cell_type": "markdown",
   "source": [
    "# векторное представление всех текстов с помощью doc2vec"
   ],
   "metadata": {
    "id": "0_M44MB7mcX2"
   }
  },
  {
   "cell_type": "code",
   "source": [
    "vectors_doc = []\n",
    "for i in range(len(tokenized_list)):\n",
    "    if (i%1000==0):\n",
    "        print(i)\n",
    "    vectors_doc.append(doc2vec.infer_vector(tokenized_list[i]))"
   ],
   "metadata": {
    "id": "Wu5-YzmCn4-G",
    "colab": {
     "base_uri": "https://localhost:8080/"
    },
    "outputId": "033db36d-e22e-481d-99b8-fb1cf562560e"
   },
   "execution_count": 23,
   "outputs": [
    {
     "output_type": "stream",
     "name": "stdout",
     "text": [
      "0\n",
      "1000\n",
      "2000\n",
      "3000\n",
      "4000\n",
      "5000\n",
      "6000\n",
      "7000\n",
      "8000\n",
      "9000\n",
      "10000\n",
      "11000\n",
      "12000\n",
      "13000\n",
      "14000\n",
      "15000\n"
     ]
    }
   ]
  },
  {
   "cell_type": "code",
   "source": [
    "doc2vec.infer_vector(['москва'])"
   ],
   "metadata": {
    "id": "hpc7WNsAeEQU",
    "colab": {
     "base_uri": "https://localhost:8080/"
    },
    "outputId": "4b52fabe-cbc6-4408-8fd3-1dc5ae4468da"
   },
   "execution_count": 24,
   "outputs": [
    {
     "output_type": "execute_result",
     "data": {
      "text/plain": [
       "array([-0.00329588, -0.00594495, -0.0202322 ,  0.03938466,  0.01414455,\n",
       "       -0.0280463 ,  0.0375769 ,  0.0519252 , -0.02335493,  0.02170836,\n",
       "       -0.022143  ,  0.01350211, -0.00400629,  0.014706  , -0.00825438,\n",
       "       -0.00376879, -0.04000959,  0.04260429,  0.01003891,  0.00244778,\n",
       "        0.02889085, -0.02031985,  0.01798831,  0.01144196,  0.03433743,\n",
       "        0.0020826 , -0.02456737, -0.00806956, -0.03568279, -0.00336068,\n",
       "        0.01519743, -0.01023645, -0.00565378, -0.03448845,  0.01512667,\n",
       "        0.06546372, -0.01959749,  0.02134753, -0.00067613, -0.03617102,\n",
       "       -0.06305598, -0.02294918, -0.01249871,  0.00520147,  0.00779169,\n",
       "       -0.01181386,  0.0098409 , -0.01561054,  0.01481789,  0.01776701,\n",
       "        0.03874661, -0.0226563 ,  0.00209281, -0.02107118, -0.0090273 ,\n",
       "        0.01899219,  0.0092001 , -0.04915913, -0.06019833, -0.00701201,\n",
       "       -0.00767239,  0.01671219,  0.01148314,  0.02611559, -0.0153584 ,\n",
       "       -0.0040076 ,  0.00272942,  0.06671619, -0.01078351,  0.06502907,\n",
       "        0.02091034,  0.01548182,  0.03718486, -0.0042906 ,  0.02736676,\n",
       "        0.00546996, -0.02313124, -0.0105233 , -0.04266566, -0.03195411,\n",
       "       -0.02181175, -0.02973517,  0.01154023,  0.03513611, -0.0298515 ,\n",
       "       -0.02914176,  0.02727524,  0.03767905, -0.01191766, -0.02428468,\n",
       "        0.04791078,  0.03942358,  0.00082731,  0.03108616,  0.02539034,\n",
       "        0.03414163,  0.00552467,  0.00361964,  0.01852158,  0.01268324,\n",
       "       -0.00664371,  0.0320912 ,  0.0441062 , -0.02664144, -0.00465944,\n",
       "       -0.05163426,  0.00918638,  0.01377765, -0.05380229, -0.07498332,\n",
       "        0.010046  , -0.02068701,  0.00658288,  0.03534093,  0.02138985,\n",
       "       -0.02786964,  0.04267758, -0.08241482, -0.0119191 ,  0.00315846,\n",
       "        0.00654906,  0.03785327,  0.01938877,  0.00897234, -0.02116474,\n",
       "        0.03312102, -0.01452024, -0.00572466, -0.01017074, -0.02319066,\n",
       "        0.03260494, -0.02838947,  0.00477747, -0.01506578, -0.05569252,\n",
       "        0.05833692, -0.00906481, -0.06337753, -0.03129508, -0.01671759,\n",
       "        0.03595916, -0.07482414, -0.02526071, -0.00872392, -0.01463139,\n",
       "        0.00616867,  0.00439118,  0.01091286, -0.02570768,  0.03641912,\n",
       "       -0.00316781,  0.01113533,  0.04969317,  0.00850299, -0.00690121,\n",
       "        0.0122627 ,  0.01848245,  0.04590087, -0.00817439, -0.01085309,\n",
       "        0.01736606,  0.00143359,  0.00286352, -0.01886572, -0.02935033,\n",
       "        0.00909902,  0.02811433, -0.06652687,  0.00045554,  0.03329004,\n",
       "        0.00120522,  0.0175125 ,  0.04102011, -0.04992097, -0.0007753 ,\n",
       "       -0.00307687, -0.03038769,  0.0131227 ,  0.01393113,  0.02569835,\n",
       "       -0.00623775, -0.02469731, -0.02959013, -0.02311994,  0.0348486 ,\n",
       "       -0.01975434, -0.00542014,  0.00641071,  0.03364638,  0.00579   ,\n",
       "        0.02507774, -0.02207227,  0.00579697,  0.00795846,  0.01082024,\n",
       "        0.02243701, -0.00368671, -0.02283956, -0.00798042, -0.00077884],\n",
       "      dtype=float32)"
      ]
     },
     "metadata": {},
     "execution_count": 24
    }
   ]
  },
  {
   "cell_type": "markdown",
   "source": [
    "#Кластеризация HDBSCAN"
   ],
   "metadata": {
    "id": "D5T3319xMC9Z"
   }
  },
  {
   "cell_type": "code",
   "source": [
    "!pip install -U scikit-learn"
   ],
   "metadata": {
    "id": "-itAJy5Ob78l",
    "colab": {
     "base_uri": "https://localhost:8080/"
    },
    "outputId": "464861a9-d995-4ab8-815e-3c35d0562bf5"
   },
   "execution_count": 27,
   "outputs": [
    {
     "output_type": "stream",
     "name": "stdout",
     "text": [
      "Requirement already satisfied: scikit-learn in /usr/local/lib/python3.10/dist-packages (1.2.2)\n",
      "Collecting scikit-learn\n",
      "  Downloading scikit_learn-1.4.2-cp310-cp310-manylinux_2_17_x86_64.manylinux2014_x86_64.whl (12.1 MB)\n",
      "\u001B[2K     \u001B[90m━━━━━━━━━━━━━━━━━━━━━━━━━━━━━━━━━━━━━━━━\u001B[0m \u001B[32m12.1/12.1 MB\u001B[0m \u001B[31m38.0 MB/s\u001B[0m eta \u001B[36m0:00:00\u001B[0m\n",
      "\u001B[?25hRequirement already satisfied: numpy>=1.19.5 in /usr/local/lib/python3.10/dist-packages (from scikit-learn) (1.25.2)\n",
      "Requirement already satisfied: scipy>=1.6.0 in /usr/local/lib/python3.10/dist-packages (from scikit-learn) (1.11.4)\n",
      "Requirement already satisfied: joblib>=1.2.0 in /usr/local/lib/python3.10/dist-packages (from scikit-learn) (1.4.0)\n",
      "Requirement already satisfied: threadpoolctl>=2.0.0 in /usr/local/lib/python3.10/dist-packages (from scikit-learn) (3.4.0)\n",
      "Installing collected packages: scikit-learn\n",
      "  Attempting uninstall: scikit-learn\n",
      "    Found existing installation: scikit-learn 1.2.2\n",
      "    Uninstalling scikit-learn-1.2.2:\n",
      "      Successfully uninstalled scikit-learn-1.2.2\n",
      "Successfully installed scikit-learn-1.4.2\n"
     ]
    }
   ]
  },
  {
   "cell_type": "code",
   "source": [
    "import numpy as np"
   ],
   "metadata": {
    "id": "bojiEe1XW6IC"
   },
   "execution_count": 28,
   "outputs": []
  },
  {
   "cell_type": "code",
   "source": [
    "from sklearn.cluster import HDBSCAN"
   ],
   "metadata": {
    "id": "a3DeB396a9OE"
   },
   "execution_count": 29,
   "outputs": []
  },
  {
   "cell_type": "code",
   "source": [
    "clustering_model = HDBSCAN(min_cluster_size = 5)"
   ],
   "metadata": {
    "id": "ZO6gnnHGSHl6"
   },
   "execution_count": 30,
   "outputs": []
  },
  {
   "cell_type": "code",
   "source": [
    "preds = clustering_model.fit_predict(vectors_doc)"
   ],
   "metadata": {
    "id": "fKzJBs56VHJ0"
   },
   "execution_count": 31,
   "outputs": []
  },
  {
   "cell_type": "code",
   "source": [
    "pd.Series(preds).value_counts()"
   ],
   "metadata": {
    "id": "jHzuspzSgTDO",
    "colab": {
     "base_uri": "https://localhost:8080/"
    },
    "outputId": "d2b271da-f0e7-4a06-9c41-b01c5792286e"
   },
   "execution_count": 32,
   "outputs": [
    {
     "output_type": "execute_result",
     "data": {
      "text/plain": [
       " 0    15031\n",
       "-1      186\n",
       " 1        5\n",
       "Name: count, dtype: int64"
      ]
     },
     "metadata": {},
     "execution_count": 32
    }
   ]
  },
  {
   "cell_type": "markdown",
   "source": [
    "# Кластеризация DBSCAN"
   ],
   "metadata": {
    "id": "5p9QrVclGlpb"
   }
  },
  {
   "cell_type": "code",
   "source": [
    "from sklearn.cluster import DBSCAN"
   ],
   "metadata": {
    "id": "_XP4RCSsH52d"
   },
   "execution_count": 33,
   "outputs": []
  },
  {
   "cell_type": "code",
   "source": [
    "dbscan_model = DBSCAN()"
   ],
   "metadata": {
    "id": "YT_TQLX_H52e"
   },
   "execution_count": 34,
   "outputs": []
  },
  {
   "cell_type": "code",
   "source": [
    "dbscan_preds = dbscan_model.fit_predict(vectors_doc)"
   ],
   "metadata": {
    "id": "4QTaLQJ4H52e"
   },
   "execution_count": 35,
   "outputs": []
  },
  {
   "cell_type": "code",
   "source": [
    "pd.Series(dbscan_preds).value_counts()"
   ],
   "metadata": {
    "id": "sZqYrpA2H52e",
    "colab": {
     "base_uri": "https://localhost:8080/"
    },
    "outputId": "2eafd0d7-6eea-4de0-cc98-26fd040997d9"
   },
   "execution_count": 36,
   "outputs": [
    {
     "output_type": "execute_result",
     "data": {
      "text/plain": [
       "-1    12731\n",
       " 0     2485\n",
       " 1        6\n",
       "Name: count, dtype: int64"
      ]
     },
     "metadata": {},
     "execution_count": 36
    }
   ]
  },
  {
   "cell_type": "markdown",
   "source": [
    "# Кластеризация K-Means + silhouette"
   ],
   "metadata": {
    "id": "HAFCCL1_OQ_q"
   }
  },
  {
   "cell_type": "code",
   "source": [
    "from sklearn.cluster import KMeans\n",
    "from sklearn.metrics import silhouette_score\n",
    "kmeans_preds_list = []\n",
    "for clusters in range(2,20):\n",
    "    kmeans_model = KMeans(n_clusters=clusters)\n",
    "    kmeans_preds = kmeans_model.fit_predict(vectors_doc)\n",
    "    kmeans_preds_list.append(kmeans_preds)\n",
    "    print(\"try following number of clusters: \",clusters,'silhouette score = ', silhouette_score(X = vectors_doc,labels = kmeans_preds))"
   ],
   "metadata": {
    "id": "0CM7AzqYO5yE"
   },
   "execution_count": null,
   "outputs": []
  },
  {
   "cell_type": "markdown",
   "source": [
    "# try PCA or T-SNE to visualize vectors"
   ],
   "metadata": {
    "id": "1dQCbJu_jY1C"
   }
  },
  {
   "cell_type": "markdown",
   "source": [
    "https://github.com/aniketbote/Document-Clustering-Doc2vec/blob/master/Clustering/Clustering_code_Doc2Vec/clustering_Documents_Doc2Vec.py"
   ],
   "metadata": {
    "id": "RtdjM4L9jjbg"
   }
  },
  {
   "cell_type": "code",
   "source": [
    "!pip install matplotlib scikit-learn numpy"
   ],
   "metadata": {
    "id": "NIynqy8DTBEM"
   },
   "execution_count": null,
   "outputs": []
  },
  {
   "cell_type": "code",
   "source": [
    "from sklearn.manifold import TSNE\n",
    "import numpy as np\n",
    "import matplotlib.pyplot as plt"
   ],
   "metadata": {
    "id": "ybrR06uDkz4M"
   },
   "execution_count": null,
   "outputs": []
  },
  {
   "cell_type": "code",
   "source": [
    "flattened_vectors = [vec for sublist in vectors_list for vec in sublist]\n",
    "flattened_vectors = np.array(flattened_vectors)"
   ],
   "metadata": {
    "id": "LIu2rPJj3YjF"
   },
   "execution_count": null,
   "outputs": []
  },
  {
   "cell_type": "code",
   "source": [
    "flattened_vectors = np.unique(flattened_vectors, axis=0)"
   ],
   "metadata": {
    "id": "_9KelQnxWA36"
   },
   "execution_count": null,
   "outputs": []
  },
  {
   "cell_type": "code",
   "source": [
    "tsne = TSNE(n_components=2, random_state=0)"
   ],
   "metadata": {
    "id": "NwqUY_On3akP"
   },
   "execution_count": null,
   "outputs": []
  },
  {
   "cell_type": "code",
   "source": [
    "vectors_2d = tsne.fit_transform(flattened_vectors)"
   ],
   "metadata": {
    "id": "jwxDZP-76Qsd"
   },
   "execution_count": null,
   "outputs": []
  },
  {
   "cell_type": "code",
   "source": [
    "plt.figure(figsize=(10, 10))\n",
    "plt.scatter(vectors_2d[:, 0], vectors_2d[:, 1])\n",
    "plt.show()"
   ],
   "metadata": {
    "id": "e_U7Exvl3w28"
   },
   "execution_count": null,
   "outputs": []
  },
  {
   "cell_type": "code",
   "source": [
    "doc2vec_vectors_np = np.array(vectors_doc)\n",
    "\n",
    "tsne_doc2vec = TSNE(n_components=2, random_state=0)\n",
    "reduced_doc2vec_vectors = tsne_doc2vec.fit_transform(doc2vec_vectors_np)"
   ],
   "metadata": {
    "id": "JWYxCeZx5d0a"
   },
   "execution_count": null,
   "outputs": []
  },
  {
   "cell_type": "code",
   "source": [
    "plt.figure(figsize=(10, 10))\n",
    "plt.scatter(reduced_doc2vec_vectors[:, 0], reduced_doc2vec_vectors[:, 1])\n",
    "plt.title('t-SNE Visualization of Doc2Vec Vectors')\n",
    "plt.show()"
   ],
   "metadata": {
    "id": "XAoT5EQn6BYC"
   },
   "execution_count": null,
   "outputs": []
  },
  {
   "cell_type": "code",
   "source": [],
   "metadata": {
    "id": "SUJC9fpml7Ah"
   },
   "execution_count": null,
   "outputs": []
  }
 ]
}
