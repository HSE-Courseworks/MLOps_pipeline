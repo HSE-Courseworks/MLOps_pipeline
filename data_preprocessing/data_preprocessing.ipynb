{
 "cells": [
  {
   "cell_type": "markdown",
   "metadata": {},
   "source": [
    "## Preparing for pre-processing"
   ]
  },
  {
   "cell_type": "markdown",
   "metadata": {},
   "source": [
    "### Installing and importing required modules"
   ]
  },
  {
   "cell_type": "code",
   "execution_count": null,
   "metadata": {},
   "outputs": [],
   "source": [
    "%pip install nltk\n",
    "%pip install pymystem3"
   ]
  },
  {
   "cell_type": "code",
   "execution_count": 17,
   "metadata": {},
   "outputs": [],
   "source": [
    "import sqlite3\n",
    "import re\n",
    "import nltk\n",
    "from collections import Counter, defaultdict\n",
    "from nltk.corpus import stopwords\n",
    "from nltk.tokenize import word_tokenize\n",
    "from pymystem3 import Mystem"
   ]
  },
  {
   "cell_type": "code",
   "execution_count": null,
   "metadata": {},
   "outputs": [],
   "source": [
    "nltk.download('punkt')\n",
    "nltk.download('stopwords')"
   ]
  },
  {
   "cell_type": "markdown",
   "metadata": {},
   "source": [
    "### Connecting to the database and getting posts"
   ]
  },
  {
   "cell_type": "code",
   "execution_count": 32,
   "metadata": {},
   "outputs": [],
   "source": [
    "conn = sqlite3.connect('/home/sh1ron/HSE/MLOps_pipeline/database.db')\n",
    "cursor = conn.cursor()\n",
    "\n",
    "cursor.execute(\"SELECT * FROM posts\")\n",
    "posts = cursor.fetchall()\n",
    "\n",
    "cursor.execute(\"SELECT * FROM reactions\")\n",
    "reactions = cursor.fetchall()\n",
    "\n",
    "conn.close()"
   ]
  },
  {
   "cell_type": "markdown",
   "metadata": {},
   "source": [
    "## Data preprocessing"
   ]
  },
  {
   "cell_type": "code",
   "execution_count": 7,
   "metadata": {},
   "outputs": [],
   "source": [
    "stop_words = set(stopwords.words('russian'))\n",
    "\n",
    "m = Mystem()\n",
    "\n",
    "lemmatized_posts = []\n",
    "for post in posts:\n",
    "   text = re.sub('[^а-яА-ЯёЁ\\s]', '', post[2])\n",
    "   text = re.sub('\\s+', ' ', text)\n",
    "   text = text.lower()\n",
    "   \n",
    "   tokens = word_tokenize(text, language='russian')\n",
    "   lemmatized_tokens = [m.lemmatize(word)[0] if len(m.lemmatize(word)) > 0 else word for word in tokens if word not in stop_words]\n",
    "   lemmatized_posts.append(lemmatized_tokens)"
   ]
  },
  {
   "cell_type": "markdown",
   "metadata": {},
   "source": [
    "## Post analysis"
   ]
  },
  {
   "cell_type": "markdown",
   "metadata": {},
   "source": [
    "### Finding the most popular words"
   ]
  },
  {
   "cell_type": "code",
   "execution_count": null,
   "metadata": {},
   "outputs": [],
   "source": [
    "flat_list = [item for sublist in lemmatized_posts for item in sublist]\n",
    "\n",
    "word_counts = Counter(flat_list)\n",
    "top_words = word_counts.most_common(5)\n",
    "\n",
    "print(top_words)"
   ]
  },
  {
   "cell_type": "markdown",
   "metadata": {},
   "source": [
    "### The ten most popular emotions"
   ]
  },
  {
   "cell_type": "code",
   "execution_count": null,
   "metadata": {},
   "outputs": [],
   "source": [
    "total_counts = defaultdict(int)\n",
    "\n",
    "for reaction in reactions:\n",
    "    emoji = reaction[2]\n",
    "    if emoji is None:\n",
    "        emoji = '❤'\n",
    "    total_counts[emoji] += reaction[3]\n",
    "\n",
    "sorted_emojis = sorted(total_counts.items(), key=lambda x: x[1], reverse=True)\n",
    "top_emojis = sorted_emojis[:10]\n",
    "\n",
    "print(top_emojis)"
   ]
  },
  {
   "cell_type": "code",
   "execution_count": 34,
   "metadata": {},
   "outputs": [
    {
     "ename": "ValueError",
     "evalue": "too many values to unpack (expected 2)",
     "output_type": "error",
     "traceback": [
      "\u001b[0;31m---------------------------------------------------------------------------\u001b[0m",
      "\u001b[0;31mValueError\u001b[0m                                Traceback (most recent call last)",
      "Cell \u001b[0;32mIn[34], line 5\u001b[0m\n\u001b[1;32m      2\u001b[0m emoji \u001b[38;5;241m=\u001b[39m reaction[\u001b[38;5;241m0\u001b[39m]\n\u001b[1;32m      3\u001b[0m reaction_count \u001b[38;5;241m=\u001b[39m reaction[\u001b[38;5;241m1\u001b[39m]\n\u001b[0;32m----> 5\u001b[0m filtered_posts \u001b[38;5;241m=\u001b[39m [(post, post_reactions[emoji]) \u001b[38;5;28;01mfor\u001b[39;00m post, post_reactions \u001b[38;5;129;01min\u001b[39;00m posts \u001b[38;5;28;01mif\u001b[39;00m emoji \u001b[38;5;129;01min\u001b[39;00m post_reactions]\n\u001b[1;32m      7\u001b[0m sorted_posts \u001b[38;5;241m=\u001b[39m \u001b[38;5;28msorted\u001b[39m(filtered_posts, key\u001b[38;5;241m=\u001b[39m\u001b[38;5;28;01mlambda\u001b[39;00m x: x[\u001b[38;5;241m1\u001b[39m], reverse\u001b[38;5;241m=\u001b[39m\u001b[38;5;28;01mTrue\u001b[39;00m)\n\u001b[1;32m      9\u001b[0m top_10_posts \u001b[38;5;241m=\u001b[39m sorted_posts[:\u001b[38;5;241m10\u001b[39m]\n",
      "Cell \u001b[0;32mIn[34], line 5\u001b[0m, in \u001b[0;36m<listcomp>\u001b[0;34m(.0)\u001b[0m\n\u001b[1;32m      2\u001b[0m emoji \u001b[38;5;241m=\u001b[39m reaction[\u001b[38;5;241m0\u001b[39m]\n\u001b[1;32m      3\u001b[0m reaction_count \u001b[38;5;241m=\u001b[39m reaction[\u001b[38;5;241m1\u001b[39m]\n\u001b[0;32m----> 5\u001b[0m filtered_posts \u001b[38;5;241m=\u001b[39m [(post, post_reactions[emoji]) \u001b[38;5;28;01mfor\u001b[39;00m post, post_reactions \u001b[38;5;129;01min\u001b[39;00m posts \u001b[38;5;28;01mif\u001b[39;00m emoji \u001b[38;5;129;01min\u001b[39;00m post_reactions]\n\u001b[1;32m      7\u001b[0m sorted_posts \u001b[38;5;241m=\u001b[39m \u001b[38;5;28msorted\u001b[39m(filtered_posts, key\u001b[38;5;241m=\u001b[39m\u001b[38;5;28;01mlambda\u001b[39;00m x: x[\u001b[38;5;241m1\u001b[39m], reverse\u001b[38;5;241m=\u001b[39m\u001b[38;5;28;01mTrue\u001b[39;00m)\n\u001b[1;32m      9\u001b[0m top_10_posts \u001b[38;5;241m=\u001b[39m sorted_posts[:\u001b[38;5;241m10\u001b[39m]\n",
      "\u001b[0;31mValueError\u001b[0m: too many values to unpack (expected 2)"
     ]
    }
   ],
   "source": [
    "for reaction in top_emojis:\n",
    "    emoji = reaction[2]\n",
    "    reaction_count = reaction[3]\n",
    "    \n",
    "    filtered_posts = [(post, post_reactions[emoji]) for post, post_reactions in posts if emoji in post_reactions]\n",
    "    \n",
    "    sorted_posts = sorted(filtered_posts, key=lambda x: x[3], reverse=True)\n",
    "    \n",
    "    top_10_posts = sorted_posts[:10]\n",
    "    \n",
    "    print(f\"Top 10 posts for reaction '{emoji}':\")\n",
    "    for post, reaction_count in top_10_posts:\n",
    "        print(f\"Post ID: {post}, Reaction Count: {reaction_count}\")"
   ]
  }
 ],
 "metadata": {
  "kernelspec": {
   "display_name": "Python 3",
   "language": "python",
   "name": "python3"
  },
  "language_info": {
   "codemirror_mode": {
    "name": "ipython",
    "version": 3
   },
   "file_extension": ".py",
   "mimetype": "text/x-python",
   "name": "python",
   "nbconvert_exporter": "python",
   "pygments_lexer": "ipython3",
   "version": "3.10.12"
  }
 },
 "nbformat": 4,
 "nbformat_minor": 2
}
