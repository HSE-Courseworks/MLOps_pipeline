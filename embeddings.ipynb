{
  "nbformat": 4,
  "nbformat_minor": 0,
  "metadata": {
    "colab": {
      "provenance": []
    },
    "kernelspec": {
      "name": "python3",
      "display_name": "Python 3"
    },
    "language_info": {
      "name": "python"
    }
  },
  "cells": [
    {
      "cell_type": "code",
      "execution_count": 9,
      "metadata": {
        "id": "oRv-zdd6T1yn"
      },
      "outputs": [],
      "source": [
        "import pandas as pd"
      ]
    },
    {
      "cell_type": "code",
      "source": [
        "words = pd.DataFrame(['apple','capybara','carburetor','penapple'],columns = ['words'])"
      ],
      "metadata": {
        "id": "rFoYW7GpWJ06"
      },
      "execution_count": 10,
      "outputs": []
    },
    {
      "cell_type": "code",
      "source": [
        "words"
      ],
      "metadata": {
        "colab": {
          "base_uri": "https://localhost:8080/",
          "height": 175
        },
        "id": "6xqslejdWmOR",
        "outputId": "69af81f4-82d4-43b8-8d8e-b44375bfe217"
      },
      "execution_count": 11,
      "outputs": [
        {
          "output_type": "execute_result",
          "data": {
            "text/plain": [
              "        words\n",
              "0       apple\n",
              "1    capybara\n",
              "2  carburetor\n",
              "3    penapple"
            ],
            "text/html": [
              "\n",
              "  <div id=\"df-e459746f-5b81-47e0-b3d3-2f9e2cf82ed8\" class=\"colab-df-container\">\n",
              "    <div>\n",
              "<style scoped>\n",
              "    .dataframe tbody tr th:only-of-type {\n",
              "        vertical-align: middle;\n",
              "    }\n",
              "\n",
              "    .dataframe tbody tr th {\n",
              "        vertical-align: top;\n",
              "    }\n",
              "\n",
              "    .dataframe thead th {\n",
              "        text-align: right;\n",
              "    }\n",
              "</style>\n",
              "<table border=\"1\" class=\"dataframe\">\n",
              "  <thead>\n",
              "    <tr style=\"text-align: right;\">\n",
              "      <th></th>\n",
              "      <th>words</th>\n",
              "    </tr>\n",
              "  </thead>\n",
              "  <tbody>\n",
              "    <tr>\n",
              "      <th>0</th>\n",
              "      <td>apple</td>\n",
              "    </tr>\n",
              "    <tr>\n",
              "      <th>1</th>\n",
              "      <td>capybara</td>\n",
              "    </tr>\n",
              "    <tr>\n",
              "      <th>2</th>\n",
              "      <td>carburetor</td>\n",
              "    </tr>\n",
              "    <tr>\n",
              "      <th>3</th>\n",
              "      <td>penapple</td>\n",
              "    </tr>\n",
              "  </tbody>\n",
              "</table>\n",
              "</div>\n",
              "    <div class=\"colab-df-buttons\">\n",
              "\n",
              "  <div class=\"colab-df-container\">\n",
              "    <button class=\"colab-df-convert\" onclick=\"convertToInteractive('df-e459746f-5b81-47e0-b3d3-2f9e2cf82ed8')\"\n",
              "            title=\"Convert this dataframe to an interactive table.\"\n",
              "            style=\"display:none;\">\n",
              "\n",
              "  <svg xmlns=\"http://www.w3.org/2000/svg\" height=\"24px\" viewBox=\"0 -960 960 960\">\n",
              "    <path d=\"M120-120v-720h720v720H120Zm60-500h600v-160H180v160Zm220 220h160v-160H400v160Zm0 220h160v-160H400v160ZM180-400h160v-160H180v160Zm440 0h160v-160H620v160ZM180-180h160v-160H180v160Zm440 0h160v-160H620v160Z\"/>\n",
              "  </svg>\n",
              "    </button>\n",
              "\n",
              "  <style>\n",
              "    .colab-df-container {\n",
              "      display:flex;\n",
              "      gap: 12px;\n",
              "    }\n",
              "\n",
              "    .colab-df-convert {\n",
              "      background-color: #E8F0FE;\n",
              "      border: none;\n",
              "      border-radius: 50%;\n",
              "      cursor: pointer;\n",
              "      display: none;\n",
              "      fill: #1967D2;\n",
              "      height: 32px;\n",
              "      padding: 0 0 0 0;\n",
              "      width: 32px;\n",
              "    }\n",
              "\n",
              "    .colab-df-convert:hover {\n",
              "      background-color: #E2EBFA;\n",
              "      box-shadow: 0px 1px 2px rgba(60, 64, 67, 0.3), 0px 1px 3px 1px rgba(60, 64, 67, 0.15);\n",
              "      fill: #174EA6;\n",
              "    }\n",
              "\n",
              "    .colab-df-buttons div {\n",
              "      margin-bottom: 4px;\n",
              "    }\n",
              "\n",
              "    [theme=dark] .colab-df-convert {\n",
              "      background-color: #3B4455;\n",
              "      fill: #D2E3FC;\n",
              "    }\n",
              "\n",
              "    [theme=dark] .colab-df-convert:hover {\n",
              "      background-color: #434B5C;\n",
              "      box-shadow: 0px 1px 3px 1px rgba(0, 0, 0, 0.15);\n",
              "      filter: drop-shadow(0px 1px 2px rgba(0, 0, 0, 0.3));\n",
              "      fill: #FFFFFF;\n",
              "    }\n",
              "  </style>\n",
              "\n",
              "    <script>\n",
              "      const buttonEl =\n",
              "        document.querySelector('#df-e459746f-5b81-47e0-b3d3-2f9e2cf82ed8 button.colab-df-convert');\n",
              "      buttonEl.style.display =\n",
              "        google.colab.kernel.accessAllowed ? 'block' : 'none';\n",
              "\n",
              "      async function convertToInteractive(key) {\n",
              "        const element = document.querySelector('#df-e459746f-5b81-47e0-b3d3-2f9e2cf82ed8');\n",
              "        const dataTable =\n",
              "          await google.colab.kernel.invokeFunction('convertToInteractive',\n",
              "                                                    [key], {});\n",
              "        if (!dataTable) return;\n",
              "\n",
              "        const docLinkHtml = 'Like what you see? Visit the ' +\n",
              "          '<a target=\"_blank\" href=https://colab.research.google.com/notebooks/data_table.ipynb>data table notebook</a>'\n",
              "          + ' to learn more about interactive tables.';\n",
              "        element.innerHTML = '';\n",
              "        dataTable['output_type'] = 'display_data';\n",
              "        await google.colab.output.renderOutput(dataTable, element);\n",
              "        const docLink = document.createElement('div');\n",
              "        docLink.innerHTML = docLinkHtml;\n",
              "        element.appendChild(docLink);\n",
              "      }\n",
              "    </script>\n",
              "  </div>\n",
              "\n",
              "\n",
              "<div id=\"df-b779eff3-ff02-452b-b2a0-4fb01a50a46b\">\n",
              "  <button class=\"colab-df-quickchart\" onclick=\"quickchart('df-b779eff3-ff02-452b-b2a0-4fb01a50a46b')\"\n",
              "            title=\"Suggest charts\"\n",
              "            style=\"display:none;\">\n",
              "\n",
              "<svg xmlns=\"http://www.w3.org/2000/svg\" height=\"24px\"viewBox=\"0 0 24 24\"\n",
              "     width=\"24px\">\n",
              "    <g>\n",
              "        <path d=\"M19 3H5c-1.1 0-2 .9-2 2v14c0 1.1.9 2 2 2h14c1.1 0 2-.9 2-2V5c0-1.1-.9-2-2-2zM9 17H7v-7h2v7zm4 0h-2V7h2v10zm4 0h-2v-4h2v4z\"/>\n",
              "    </g>\n",
              "</svg>\n",
              "  </button>\n",
              "\n",
              "<style>\n",
              "  .colab-df-quickchart {\n",
              "      --bg-color: #E8F0FE;\n",
              "      --fill-color: #1967D2;\n",
              "      --hover-bg-color: #E2EBFA;\n",
              "      --hover-fill-color: #174EA6;\n",
              "      --disabled-fill-color: #AAA;\n",
              "      --disabled-bg-color: #DDD;\n",
              "  }\n",
              "\n",
              "  [theme=dark] .colab-df-quickchart {\n",
              "      --bg-color: #3B4455;\n",
              "      --fill-color: #D2E3FC;\n",
              "      --hover-bg-color: #434B5C;\n",
              "      --hover-fill-color: #FFFFFF;\n",
              "      --disabled-bg-color: #3B4455;\n",
              "      --disabled-fill-color: #666;\n",
              "  }\n",
              "\n",
              "  .colab-df-quickchart {\n",
              "    background-color: var(--bg-color);\n",
              "    border: none;\n",
              "    border-radius: 50%;\n",
              "    cursor: pointer;\n",
              "    display: none;\n",
              "    fill: var(--fill-color);\n",
              "    height: 32px;\n",
              "    padding: 0;\n",
              "    width: 32px;\n",
              "  }\n",
              "\n",
              "  .colab-df-quickchart:hover {\n",
              "    background-color: var(--hover-bg-color);\n",
              "    box-shadow: 0 1px 2px rgba(60, 64, 67, 0.3), 0 1px 3px 1px rgba(60, 64, 67, 0.15);\n",
              "    fill: var(--button-hover-fill-color);\n",
              "  }\n",
              "\n",
              "  .colab-df-quickchart-complete:disabled,\n",
              "  .colab-df-quickchart-complete:disabled:hover {\n",
              "    background-color: var(--disabled-bg-color);\n",
              "    fill: var(--disabled-fill-color);\n",
              "    box-shadow: none;\n",
              "  }\n",
              "\n",
              "  .colab-df-spinner {\n",
              "    border: 2px solid var(--fill-color);\n",
              "    border-color: transparent;\n",
              "    border-bottom-color: var(--fill-color);\n",
              "    animation:\n",
              "      spin 1s steps(1) infinite;\n",
              "  }\n",
              "\n",
              "  @keyframes spin {\n",
              "    0% {\n",
              "      border-color: transparent;\n",
              "      border-bottom-color: var(--fill-color);\n",
              "      border-left-color: var(--fill-color);\n",
              "    }\n",
              "    20% {\n",
              "      border-color: transparent;\n",
              "      border-left-color: var(--fill-color);\n",
              "      border-top-color: var(--fill-color);\n",
              "    }\n",
              "    30% {\n",
              "      border-color: transparent;\n",
              "      border-left-color: var(--fill-color);\n",
              "      border-top-color: var(--fill-color);\n",
              "      border-right-color: var(--fill-color);\n",
              "    }\n",
              "    40% {\n",
              "      border-color: transparent;\n",
              "      border-right-color: var(--fill-color);\n",
              "      border-top-color: var(--fill-color);\n",
              "    }\n",
              "    60% {\n",
              "      border-color: transparent;\n",
              "      border-right-color: var(--fill-color);\n",
              "    }\n",
              "    80% {\n",
              "      border-color: transparent;\n",
              "      border-right-color: var(--fill-color);\n",
              "      border-bottom-color: var(--fill-color);\n",
              "    }\n",
              "    90% {\n",
              "      border-color: transparent;\n",
              "      border-bottom-color: var(--fill-color);\n",
              "    }\n",
              "  }\n",
              "</style>\n",
              "\n",
              "  <script>\n",
              "    async function quickchart(key) {\n",
              "      const quickchartButtonEl =\n",
              "        document.querySelector('#' + key + ' button');\n",
              "      quickchartButtonEl.disabled = true;  // To prevent multiple clicks.\n",
              "      quickchartButtonEl.classList.add('colab-df-spinner');\n",
              "      try {\n",
              "        const charts = await google.colab.kernel.invokeFunction(\n",
              "            'suggestCharts', [key], {});\n",
              "      } catch (error) {\n",
              "        console.error('Error during call to suggestCharts:', error);\n",
              "      }\n",
              "      quickchartButtonEl.classList.remove('colab-df-spinner');\n",
              "      quickchartButtonEl.classList.add('colab-df-quickchart-complete');\n",
              "    }\n",
              "    (() => {\n",
              "      let quickchartButtonEl =\n",
              "        document.querySelector('#df-b779eff3-ff02-452b-b2a0-4fb01a50a46b button');\n",
              "      quickchartButtonEl.style.display =\n",
              "        google.colab.kernel.accessAllowed ? 'block' : 'none';\n",
              "    })();\n",
              "  </script>\n",
              "</div>\n",
              "    </div>\n",
              "  </div>\n"
            ]
          },
          "metadata": {},
          "execution_count": 11
        }
      ]
    },
    {
      "cell_type": "code",
      "source": [
        "pd.get_dummies(words)"
      ],
      "metadata": {
        "colab": {
          "base_uri": "https://localhost:8080/",
          "height": 175
        },
        "id": "Vc9k1jFmW5jd",
        "outputId": "aa31cd4f-caaa-49f7-9858-bc6f3deafed8"
      },
      "execution_count": 12,
      "outputs": [
        {
          "output_type": "execute_result",
          "data": {
            "text/plain": [
              "   words_apple  words_capybara  words_carburetor  words_penapple\n",
              "0            1               0                 0               0\n",
              "1            0               1                 0               0\n",
              "2            0               0                 1               0\n",
              "3            0               0                 0               1"
            ],
            "text/html": [
              "\n",
              "  <div id=\"df-c2e5e895-1c8d-464a-87ed-82298bfa9adb\" class=\"colab-df-container\">\n",
              "    <div>\n",
              "<style scoped>\n",
              "    .dataframe tbody tr th:only-of-type {\n",
              "        vertical-align: middle;\n",
              "    }\n",
              "\n",
              "    .dataframe tbody tr th {\n",
              "        vertical-align: top;\n",
              "    }\n",
              "\n",
              "    .dataframe thead th {\n",
              "        text-align: right;\n",
              "    }\n",
              "</style>\n",
              "<table border=\"1\" class=\"dataframe\">\n",
              "  <thead>\n",
              "    <tr style=\"text-align: right;\">\n",
              "      <th></th>\n",
              "      <th>words_apple</th>\n",
              "      <th>words_capybara</th>\n",
              "      <th>words_carburetor</th>\n",
              "      <th>words_penapple</th>\n",
              "    </tr>\n",
              "  </thead>\n",
              "  <tbody>\n",
              "    <tr>\n",
              "      <th>0</th>\n",
              "      <td>1</td>\n",
              "      <td>0</td>\n",
              "      <td>0</td>\n",
              "      <td>0</td>\n",
              "    </tr>\n",
              "    <tr>\n",
              "      <th>1</th>\n",
              "      <td>0</td>\n",
              "      <td>1</td>\n",
              "      <td>0</td>\n",
              "      <td>0</td>\n",
              "    </tr>\n",
              "    <tr>\n",
              "      <th>2</th>\n",
              "      <td>0</td>\n",
              "      <td>0</td>\n",
              "      <td>1</td>\n",
              "      <td>0</td>\n",
              "    </tr>\n",
              "    <tr>\n",
              "      <th>3</th>\n",
              "      <td>0</td>\n",
              "      <td>0</td>\n",
              "      <td>0</td>\n",
              "      <td>1</td>\n",
              "    </tr>\n",
              "  </tbody>\n",
              "</table>\n",
              "</div>\n",
              "    <div class=\"colab-df-buttons\">\n",
              "\n",
              "  <div class=\"colab-df-container\">\n",
              "    <button class=\"colab-df-convert\" onclick=\"convertToInteractive('df-c2e5e895-1c8d-464a-87ed-82298bfa9adb')\"\n",
              "            title=\"Convert this dataframe to an interactive table.\"\n",
              "            style=\"display:none;\">\n",
              "\n",
              "  <svg xmlns=\"http://www.w3.org/2000/svg\" height=\"24px\" viewBox=\"0 -960 960 960\">\n",
              "    <path d=\"M120-120v-720h720v720H120Zm60-500h600v-160H180v160Zm220 220h160v-160H400v160Zm0 220h160v-160H400v160ZM180-400h160v-160H180v160Zm440 0h160v-160H620v160ZM180-180h160v-160H180v160Zm440 0h160v-160H620v160Z\"/>\n",
              "  </svg>\n",
              "    </button>\n",
              "\n",
              "  <style>\n",
              "    .colab-df-container {\n",
              "      display:flex;\n",
              "      gap: 12px;\n",
              "    }\n",
              "\n",
              "    .colab-df-convert {\n",
              "      background-color: #E8F0FE;\n",
              "      border: none;\n",
              "      border-radius: 50%;\n",
              "      cursor: pointer;\n",
              "      display: none;\n",
              "      fill: #1967D2;\n",
              "      height: 32px;\n",
              "      padding: 0 0 0 0;\n",
              "      width: 32px;\n",
              "    }\n",
              "\n",
              "    .colab-df-convert:hover {\n",
              "      background-color: #E2EBFA;\n",
              "      box-shadow: 0px 1px 2px rgba(60, 64, 67, 0.3), 0px 1px 3px 1px rgba(60, 64, 67, 0.15);\n",
              "      fill: #174EA6;\n",
              "    }\n",
              "\n",
              "    .colab-df-buttons div {\n",
              "      margin-bottom: 4px;\n",
              "    }\n",
              "\n",
              "    [theme=dark] .colab-df-convert {\n",
              "      background-color: #3B4455;\n",
              "      fill: #D2E3FC;\n",
              "    }\n",
              "\n",
              "    [theme=dark] .colab-df-convert:hover {\n",
              "      background-color: #434B5C;\n",
              "      box-shadow: 0px 1px 3px 1px rgba(0, 0, 0, 0.15);\n",
              "      filter: drop-shadow(0px 1px 2px rgba(0, 0, 0, 0.3));\n",
              "      fill: #FFFFFF;\n",
              "    }\n",
              "  </style>\n",
              "\n",
              "    <script>\n",
              "      const buttonEl =\n",
              "        document.querySelector('#df-c2e5e895-1c8d-464a-87ed-82298bfa9adb button.colab-df-convert');\n",
              "      buttonEl.style.display =\n",
              "        google.colab.kernel.accessAllowed ? 'block' : 'none';\n",
              "\n",
              "      async function convertToInteractive(key) {\n",
              "        const element = document.querySelector('#df-c2e5e895-1c8d-464a-87ed-82298bfa9adb');\n",
              "        const dataTable =\n",
              "          await google.colab.kernel.invokeFunction('convertToInteractive',\n",
              "                                                    [key], {});\n",
              "        if (!dataTable) return;\n",
              "\n",
              "        const docLinkHtml = 'Like what you see? Visit the ' +\n",
              "          '<a target=\"_blank\" href=https://colab.research.google.com/notebooks/data_table.ipynb>data table notebook</a>'\n",
              "          + ' to learn more about interactive tables.';\n",
              "        element.innerHTML = '';\n",
              "        dataTable['output_type'] = 'display_data';\n",
              "        await google.colab.output.renderOutput(dataTable, element);\n",
              "        const docLink = document.createElement('div');\n",
              "        docLink.innerHTML = docLinkHtml;\n",
              "        element.appendChild(docLink);\n",
              "      }\n",
              "    </script>\n",
              "  </div>\n",
              "\n",
              "\n",
              "<div id=\"df-1ee6f48c-8114-4d5c-84bd-f477e4b3f3e2\">\n",
              "  <button class=\"colab-df-quickchart\" onclick=\"quickchart('df-1ee6f48c-8114-4d5c-84bd-f477e4b3f3e2')\"\n",
              "            title=\"Suggest charts\"\n",
              "            style=\"display:none;\">\n",
              "\n",
              "<svg xmlns=\"http://www.w3.org/2000/svg\" height=\"24px\"viewBox=\"0 0 24 24\"\n",
              "     width=\"24px\">\n",
              "    <g>\n",
              "        <path d=\"M19 3H5c-1.1 0-2 .9-2 2v14c0 1.1.9 2 2 2h14c1.1 0 2-.9 2-2V5c0-1.1-.9-2-2-2zM9 17H7v-7h2v7zm4 0h-2V7h2v10zm4 0h-2v-4h2v4z\"/>\n",
              "    </g>\n",
              "</svg>\n",
              "  </button>\n",
              "\n",
              "<style>\n",
              "  .colab-df-quickchart {\n",
              "      --bg-color: #E8F0FE;\n",
              "      --fill-color: #1967D2;\n",
              "      --hover-bg-color: #E2EBFA;\n",
              "      --hover-fill-color: #174EA6;\n",
              "      --disabled-fill-color: #AAA;\n",
              "      --disabled-bg-color: #DDD;\n",
              "  }\n",
              "\n",
              "  [theme=dark] .colab-df-quickchart {\n",
              "      --bg-color: #3B4455;\n",
              "      --fill-color: #D2E3FC;\n",
              "      --hover-bg-color: #434B5C;\n",
              "      --hover-fill-color: #FFFFFF;\n",
              "      --disabled-bg-color: #3B4455;\n",
              "      --disabled-fill-color: #666;\n",
              "  }\n",
              "\n",
              "  .colab-df-quickchart {\n",
              "    background-color: var(--bg-color);\n",
              "    border: none;\n",
              "    border-radius: 50%;\n",
              "    cursor: pointer;\n",
              "    display: none;\n",
              "    fill: var(--fill-color);\n",
              "    height: 32px;\n",
              "    padding: 0;\n",
              "    width: 32px;\n",
              "  }\n",
              "\n",
              "  .colab-df-quickchart:hover {\n",
              "    background-color: var(--hover-bg-color);\n",
              "    box-shadow: 0 1px 2px rgba(60, 64, 67, 0.3), 0 1px 3px 1px rgba(60, 64, 67, 0.15);\n",
              "    fill: var(--button-hover-fill-color);\n",
              "  }\n",
              "\n",
              "  .colab-df-quickchart-complete:disabled,\n",
              "  .colab-df-quickchart-complete:disabled:hover {\n",
              "    background-color: var(--disabled-bg-color);\n",
              "    fill: var(--disabled-fill-color);\n",
              "    box-shadow: none;\n",
              "  }\n",
              "\n",
              "  .colab-df-spinner {\n",
              "    border: 2px solid var(--fill-color);\n",
              "    border-color: transparent;\n",
              "    border-bottom-color: var(--fill-color);\n",
              "    animation:\n",
              "      spin 1s steps(1) infinite;\n",
              "  }\n",
              "\n",
              "  @keyframes spin {\n",
              "    0% {\n",
              "      border-color: transparent;\n",
              "      border-bottom-color: var(--fill-color);\n",
              "      border-left-color: var(--fill-color);\n",
              "    }\n",
              "    20% {\n",
              "      border-color: transparent;\n",
              "      border-left-color: var(--fill-color);\n",
              "      border-top-color: var(--fill-color);\n",
              "    }\n",
              "    30% {\n",
              "      border-color: transparent;\n",
              "      border-left-color: var(--fill-color);\n",
              "      border-top-color: var(--fill-color);\n",
              "      border-right-color: var(--fill-color);\n",
              "    }\n",
              "    40% {\n",
              "      border-color: transparent;\n",
              "      border-right-color: var(--fill-color);\n",
              "      border-top-color: var(--fill-color);\n",
              "    }\n",
              "    60% {\n",
              "      border-color: transparent;\n",
              "      border-right-color: var(--fill-color);\n",
              "    }\n",
              "    80% {\n",
              "      border-color: transparent;\n",
              "      border-right-color: var(--fill-color);\n",
              "      border-bottom-color: var(--fill-color);\n",
              "    }\n",
              "    90% {\n",
              "      border-color: transparent;\n",
              "      border-bottom-color: var(--fill-color);\n",
              "    }\n",
              "  }\n",
              "</style>\n",
              "\n",
              "  <script>\n",
              "    async function quickchart(key) {\n",
              "      const quickchartButtonEl =\n",
              "        document.querySelector('#' + key + ' button');\n",
              "      quickchartButtonEl.disabled = true;  // To prevent multiple clicks.\n",
              "      quickchartButtonEl.classList.add('colab-df-spinner');\n",
              "      try {\n",
              "        const charts = await google.colab.kernel.invokeFunction(\n",
              "            'suggestCharts', [key], {});\n",
              "      } catch (error) {\n",
              "        console.error('Error during call to suggestCharts:', error);\n",
              "      }\n",
              "      quickchartButtonEl.classList.remove('colab-df-spinner');\n",
              "      quickchartButtonEl.classList.add('colab-df-quickchart-complete');\n",
              "    }\n",
              "    (() => {\n",
              "      let quickchartButtonEl =\n",
              "        document.querySelector('#df-1ee6f48c-8114-4d5c-84bd-f477e4b3f3e2 button');\n",
              "      quickchartButtonEl.style.display =\n",
              "        google.colab.kernel.accessAllowed ? 'block' : 'none';\n",
              "    })();\n",
              "  </script>\n",
              "</div>\n",
              "    </div>\n",
              "  </div>\n"
            ]
          },
          "metadata": {},
          "execution_count": 12
        }
      ]
    },
    {
      "cell_type": "code",
      "source": [
        "from gensim.models import Word2Vec"
      ],
      "metadata": {
        "id": "87Y2iaZ4EVBP"
      },
      "execution_count": 13,
      "outputs": []
    },
    {
      "cell_type": "code",
      "source": [
        "model = Word2Vec(vector_size = 500, window=10, min_count=2, sg=1)"
      ],
      "metadata": {
        "id": "VpOIraDME81Z"
      },
      "execution_count": 14,
      "outputs": []
    },
    {
      "cell_type": "code",
      "source": [
        "f = open(\"/content/Лев Толстой. Война и мир.txt\",'r',encoding=\"utf-8\")"
      ],
      "metadata": {
        "id": "1k0LV4cnE_GM"
      },
      "execution_count": 15,
      "outputs": []
    },
    {
      "cell_type": "code",
      "source": [
        "text = f.readlines()"
      ],
      "metadata": {
        "id": "1Il_LJ7oF_Eu"
      },
      "execution_count": 16,
      "outputs": []
    },
    {
      "cell_type": "code",
      "source": [
        "text = ' '.join(text)"
      ],
      "metadata": {
        "id": "V4bp0qKbINJ3"
      },
      "execution_count": 17,
      "outputs": []
    },
    {
      "cell_type": "code",
      "source": [
        "!pip install nltk"
      ],
      "metadata": {
        "id": "eO_ief0hJ5m7"
      },
      "execution_count": null,
      "outputs": []
    },
    {
      "cell_type": "code",
      "source": [
        "import nltk\n",
        "nltk.download('punkt')\n",
        "nltk.download('stopwords')\n",
        "nltk.download('corpus')"
      ],
      "metadata": {
        "id": "bcOSHhMaKiR-"
      },
      "execution_count": null,
      "outputs": []
    },
    {
      "cell_type": "code",
      "source": [
        "import nltk\n",
        "from nltk.tokenize import TweetTokenizer, sent_tokenize\n",
        "\n",
        "tokenizer_words = TweetTokenizer()\n",
        "tokens_sentences = [tokenizer_words.tokenize(t) for t in\n",
        "nltk.sent_tokenize(text)]"
      ],
      "metadata": {
        "id": "hF5rFfpNJy0Z"
      },
      "execution_count": 20,
      "outputs": []
    },
    {
      "cell_type": "code",
      "source": [
        "model.build_vocab(tokens_sentences)"
      ],
      "metadata": {
        "id": "qbE9xNTHLFx3"
      },
      "execution_count": 21,
      "outputs": []
    },
    {
      "cell_type": "code",
      "source": [
        "tokens_sentences[5]"
      ],
      "metadata": {
        "id": "O9GtcQvLbCly",
        "outputId": "8b5d45a6-afa8-45e9-87a1-55f22848eac8",
        "colab": {
          "base_uri": "https://localhost:8080/"
        }
      },
      "execution_count": 22,
      "outputs": [
        {
          "output_type": "execute_result",
          "data": {
            "text/plain": [
              "['(',\n",
              " 'В',\n",
              " 'дальнейшем',\n",
              " 'переводы',\n",
              " 'с',\n",
              " 'французского',\n",
              " 'не',\n",
              " 'оговариваются',\n",
              " '.']"
            ]
          },
          "metadata": {},
          "execution_count": 22
        }
      ]
    },
    {
      "cell_type": "code",
      "source": [
        "model.train(tokens_sentences, total_examples=model.corpus_count, epochs=30, report_delay=1)"
      ],
      "metadata": {
        "colab": {
          "base_uri": "https://localhost:8080/"
        },
        "id": "h3igprUkLaGO",
        "outputId": "4cab6cd5-9f8d-4c1b-9fd5-55ce4b7ee2b7"
      },
      "execution_count": 23,
      "outputs": [
        {
          "output_type": "execute_result",
          "data": {
            "text/plain": [
              "(6140280, 9113910)"
            ]
          },
          "metadata": {},
          "execution_count": 23
        }
      ]
    },
    {
      "cell_type": "code",
      "source": [
        "model.wv.most_similar('император')"
      ],
      "metadata": {
        "colab": {
          "base_uri": "https://localhost:8080/"
        },
        "id": "K4lldLkCLwCN",
        "outputId": "a28d42ca-9579-4236-ed00-1717ae0b30f5"
      },
      "execution_count": 24,
      "outputs": [
        {
          "output_type": "execute_result",
          "data": {
            "text/plain": [
              "[('Франц', 0.6664320230484009),\n",
              " ('Александр', 0.6510893106460571),\n",
              " ('Виват', 0.5873460173606873),\n",
              " ('изменит', 0.5690732598304749),\n",
              " ('согласится', 0.564491868019104),\n",
              " ('российский', 0.5631046891212463),\n",
              " ('354', 0.5575778484344482),\n",
              " ('смешался', 0.5569444894790649),\n",
              " ('упомянутое', 0.5551967620849609),\n",
              " ('возвратить', 0.5450008511543274)]"
            ]
          },
          "metadata": {},
          "execution_count": 24
        }
      ]
    },
    {
      "cell_type": "code",
      "source": [
        "model.wv.most_similar('француз')"
      ],
      "metadata": {
        "colab": {
          "base_uri": "https://localhost:8080/"
        },
        "id": "lNtaHpKGTFfL",
        "outputId": "e7f1d8fe-c52e-4bb7-a628-50ddd5b19e4e"
      },
      "execution_count": 25,
      "outputs": [
        {
          "output_type": "execute_result",
          "data": {
            "text/plain": [
              "[('горбатым', 0.617556631565094),\n",
              " ('красавец', 0.5911628007888794),\n",
              " ('ружье', 0.5743246078491211),\n",
              " ('банник', 0.5528762340545654),\n",
              " ('слоге', 0.5467669367790222),\n",
              " ('добежать', 0.5239396691322327),\n",
              " ('vieux', 0.5162952542304993),\n",
              " ('артиллериста', 0.5155836343765259),\n",
              " ('Французский', 0.5154901742935181),\n",
              " ('174', 0.5092029571533203)]"
            ]
          },
          "metadata": {},
          "execution_count": 25
        }
      ]
    },
    {
      "cell_type": "code",
      "source": [
        "import gensim\n",
        "model2 = gensim.models.KeyedVectors.load_word2vec_format(\"/content/drive/MyDrive/emb/ruwikiruscorpora-nobigrams_upos_skipgram_300_5_2018.vec.gz\")\n",
        "model2.init_sims(replace=True)"
      ],
      "metadata": {
        "id": "bwuNYsCqPR8k"
      },
      "execution_count": null,
      "outputs": []
    },
    {
      "cell_type": "code",
      "source": [
        "model2.most_similar('император_NOUN')"
      ],
      "metadata": {
        "colab": {
          "base_uri": "https://localhost:8080/"
        },
        "id": "89ksVp33QAfY",
        "outputId": "e0972d02-e710-4ed3-89e3-c851c24356dd"
      },
      "execution_count": 27,
      "outputs": [
        {
          "output_type": "execute_result",
          "data": {
            "text/plain": [
              "[('император_PROPN', 0.8153896331787109),\n",
              " ('императрица_NOUN', 0.7798320055007935),\n",
              " ('му-цзун_PROPN', 0.7033633589744568),\n",
              " ('дай-цзун_PROPN', 0.6861872673034668),\n",
              " ('тай-цзун_PROPN', 0.6790136098861694),\n",
              " ('чжао-цзун_PROPN', 0.6768495440483093),\n",
              " ('тэндзи_PROPN', 0.6718018054962158),\n",
              " ('гао-цзун_PROPN', 0.6703536510467529),\n",
              " ('цезаирать_NOUN', 0.6679410934448242),\n",
              " ('экс-император_NOUN', 0.6674522161483765)]"
            ]
          },
          "metadata": {},
          "execution_count": 27
        }
      ]
    },
    {
      "cell_type": "code",
      "source": [
        "model2.most_similar('француз_NOUN')"
      ],
      "metadata": {
        "colab": {
          "base_uri": "https://localhost:8080/"
        },
        "id": "6A0YOCUeTYQF",
        "outputId": "381b92ca-4e31-480b-a6f9-348c5dd19f46"
      },
      "execution_count": 28,
      "outputs": [
        {
          "output_type": "execute_result",
          "data": {
            "text/plain": [
              "[('англичанин_NOUN', 0.8143453001976013),\n",
              " ('австриец_NOUN', 0.7257215976715088),\n",
              " ('итальянец_NOUN', 0.7058789134025574),\n",
              " ('пруссак_NOUN', 0.705450177192688),\n",
              " ('испанец_NOUN', 0.6938128471374512),\n",
              " ('турок_NOUN', 0.6631002426147461),\n",
              " ('пруссаки_NOUN', 0.6606427431106567),\n",
              " ('лотарингец_NOUN', 0.660156786441803),\n",
              " ('голландец_NOUN', 0.6587073802947998),\n",
              " ('швейцарец_NOUN', 0.656599760055542)]"
            ]
          },
          "metadata": {},
          "execution_count": 28
        }
      ]
    },
    {
      "cell_type": "markdown",
      "source": [
        "Тестирование работы на реальных данных:"
      ],
      "metadata": {
        "id": "MvNrRKiezJ1d"
      }
    },
    {
      "cell_type": "code",
      "source": [
        "text_from_telegram = \"\"\"ЕС борется с микропластиком\n",
        " В конце сентября Еврокомиссия приняла решение о запрете изделий, при производстве которых используется микропластик, то есть частицы пластика размером менее 5 миллиметров в длину. Речь о продукции в которую пластиковые частицы добавляют намеренно, в результате чего, при нормальном использовании они становятся мощным источником загрязнения микропластиком.\n",
        "\n",
        "Процесс этот постепенный, первой в ЕС, в рамках цели по сокращению загрязнения микропластиком на 30% к 2030 году, 15 октября запретили косметику с добавлением микропластика, например, блёстки. Это вызвало волну спроса на уже произведённые товары. Изготовителям других продуктов предоставят период отсрочки, чтобы они могли приспособиться к запрету и найти альтернативы, в некоторых случаях ограничения могут вступить в силу только через несколько лет.\n",
        "\n",
        "Ежегодно только в Евросоюзе в окружающую среду выбрасывается от 52 до 184 тысяч тонн пластиковых частиц. Большую часть из этого можно относительно просто предотвратить – отказавшись от использования.\n",
        "\n",
        "Если ничего не делать, то, как следует из отчёта некоммерческой организации Pew Charitable Trusts, к 2040 году глобальное загрязнение микропластиком удвоится.\"\"\""
      ],
      "metadata": {
        "id": "mqR2fZu6z1Li"
      },
      "execution_count": 29,
      "outputs": []
    },
    {
      "cell_type": "code",
      "source": [
        "!pip install wget"
      ],
      "metadata": {
        "id": "XnUYolQK7yyU"
      },
      "execution_count": null,
      "outputs": []
    },
    {
      "cell_type": "code",
      "source": [
        "!pip install ufal.udpipe"
      ],
      "metadata": {
        "id": "HXzWc9aF72iu"
      },
      "execution_count": null,
      "outputs": []
    },
    {
      "cell_type": "code",
      "source": [
        "#!/usr/bin/env python3\n",
        "# coding: utf-8\n",
        "\n",
        "import sys\n",
        "import os\n",
        "import wget\n",
        "import re\n",
        "from ufal.udpipe import Model, Pipeline\n",
        "\n",
        "\"\"\"\n",
        "Этот скрипт принимает на вход необработанный русский текст\n",
        "(одно предложение на строку или один абзац на строку).\n",
        "Он токенизируется, лемматизируется и размечается по частям речи с использованием UDPipe.\n",
        "На выход подаётся последовательность разделенных пробелами лемм с частями речи\n",
        "(\"зеленый_ADJ трамвай_NOUN\").\n",
        "Их можно непосредственно использовать в моделях с RusVectōrēs (https://rusvectores.org).\n",
        "\n",
        "Примеры запуска:\n",
        "echo 'Мама мыла раму.' | python3 rus_preprocessing_udpipe.py\n",
        "zcat large_corpus.txt.gz | python3 rus_preprocessing_udpipe.py | gzip > processed_corpus.txt.gz\n",
        "\"\"\"\n",
        "\n",
        "\n",
        "def num_replace(word):\n",
        "    newtoken = \"x\" * len(word)\n",
        "    return newtoken\n",
        "\n",
        "\n",
        "def clean_token(token, misc):\n",
        "    \"\"\"\n",
        "    :param token:  токен (строка)\n",
        "    :param misc:  содержимое поля \"MISC\" в CONLLU (строка)\n",
        "    :return: очищенный токен (строка)\n",
        "    \"\"\"\n",
        "    out_token = token.strip().replace(\" \", \"\")\n",
        "    if token == \"Файл\" and \"SpaceAfter=No\" in misc:\n",
        "        return None\n",
        "    return out_token\n",
        "\n",
        "\n",
        "def clean_lemma(lemma, pos):\n",
        "    \"\"\"\n",
        "    :param lemma: лемма (строка)\n",
        "    :param pos: часть речи (строка)\n",
        "    :return: очищенная лемма (строка)\n",
        "    \"\"\"\n",
        "    out_lemma = lemma.strip().replace(\" \", \"\").replace(\"_\", \"\").lower()\n",
        "    if \"|\" in out_lemma or out_lemma.endswith(\".jpg\") or out_lemma.endswith(\".png\"):\n",
        "        return None\n",
        "    if pos != \"PUNCT\":\n",
        "        if out_lemma.startswith(\"«\") or out_lemma.startswith(\"»\"):\n",
        "            out_lemma = \"\".join(out_lemma[1:])\n",
        "        if out_lemma.endswith(\"«\") or out_lemma.endswith(\"»\"):\n",
        "            out_lemma = \"\".join(out_lemma[:-1])\n",
        "        if (\n",
        "            out_lemma.endswith(\"!\")\n",
        "            or out_lemma.endswith(\"?\")\n",
        "            or out_lemma.endswith(\",\")\n",
        "            or out_lemma.endswith(\".\")\n",
        "        ):\n",
        "            out_lemma = \"\".join(out_lemma[:-1])\n",
        "    return out_lemma\n",
        "\n",
        "\n",
        "def list_replace(search, replacement, text):\n",
        "    search = [el for el in search if el in text]\n",
        "    for c in search:\n",
        "        text = text.replace(c, replacement)\n",
        "    return text\n",
        "\n",
        "\n",
        "def unify_sym(text):  # принимает строку в юникоде\n",
        "    text = list_replace(\n",
        "        \"\\u00AB\\u00BB\\u2039\\u203A\\u201E\\u201A\\u201C\\u201F\\u2018\\u201B\\u201D\\u2019\",\n",
        "        \"\\u0022\",\n",
        "        text,\n",
        "    )\n",
        "\n",
        "    text = list_replace(\n",
        "        \"\\u2012\\u2013\\u2014\\u2015\\u203E\\u0305\\u00AF\", \"\\u2003\\u002D\\u002D\\u2003\", text\n",
        "    )\n",
        "\n",
        "    text = list_replace(\"\\u2010\\u2011\", \"\\u002D\", text)\n",
        "\n",
        "    text = list_replace(\n",
        "        \"\\u2000\\u2001\\u2002\\u2004\\u2005\\u2006\\u2007\\u2008\\u2009\\u200A\\u200B\\u202F\\u205F\\u2060\\u3000\",\n",
        "        \"\\u2002\",\n",
        "        text,\n",
        "    )\n",
        "\n",
        "    text = re.sub(\"\\u2003\\u2003\", \"\\u2003\", text)\n",
        "    text = re.sub(\"\\t\\t\", \"\\t\", text)\n",
        "\n",
        "    text = list_replace(\n",
        "        \"\\u02CC\\u0307\\u0323\\u2022\\u2023\\u2043\\u204C\\u204D\\u2219\\u25E6\\u00B7\\u00D7\\u22C5\\u2219\\u2062\",\n",
        "        \".\",\n",
        "        text,\n",
        "    )\n",
        "\n",
        "    text = list_replace(\"\\u2217\", \"\\u002A\", text)\n",
        "\n",
        "    text = list_replace(\"…\", \"...\", text)\n",
        "\n",
        "    text = list_replace(\"\\u2241\\u224B\\u2E2F\\u0483\", \"\\u223D\", text)\n",
        "\n",
        "    text = list_replace(\"\\u00C4\", \"A\", text)  # латинская\n",
        "    text = list_replace(\"\\u00E4\", \"a\", text)\n",
        "    text = list_replace(\"\\u00CB\", \"E\", text)\n",
        "    text = list_replace(\"\\u00EB\", \"e\", text)\n",
        "    text = list_replace(\"\\u1E26\", \"H\", text)\n",
        "    text = list_replace(\"\\u1E27\", \"h\", text)\n",
        "    text = list_replace(\"\\u00CF\", \"I\", text)\n",
        "    text = list_replace(\"\\u00EF\", \"i\", text)\n",
        "    text = list_replace(\"\\u00D6\", \"O\", text)\n",
        "    text = list_replace(\"\\u00F6\", \"o\", text)\n",
        "    text = list_replace(\"\\u00DC\", \"U\", text)\n",
        "    text = list_replace(\"\\u00FC\", \"u\", text)\n",
        "    text = list_replace(\"\\u0178\", \"Y\", text)\n",
        "    text = list_replace(\"\\u00FF\", \"y\", text)\n",
        "    text = list_replace(\"\\u00DF\", \"s\", text)\n",
        "    text = list_replace(\"\\u1E9E\", \"S\", text)\n",
        "\n",
        "    currencies = list(\n",
        "        \"\\u20BD\\u0024\\u00A3\\u20A4\\u20AC\\u20AA\\u2133\\u20BE\\u00A2\\u058F\\u0BF9\\u20BC\\u20A1\\u20A0\\u20B4\\u20A7\\u20B0\\u20BF\\u20A3\\u060B\\u0E3F\\u20A9\\u20B4\\u20B2\\u0192\\u20AB\\u00A5\\u20AD\\u20A1\\u20BA\\u20A6\\u20B1\\uFDFC\\u17DB\\u20B9\\u20A8\\u20B5\\u09F3\\u20B8\\u20AE\\u0192\"\n",
        "    )\n",
        "\n",
        "    alphabet = list(\n",
        "        '\\t\\n\\r абвгдеёзжийклмнопрстуфхцчшщьыъэюяАБВГДЕЁЗЖИЙКЛМНОПРСТУФХЦЧШЩЬЫЪЭЮЯ,.[]{}()=+-−*&^%$#@!?~;:0123456789§/\\|\"abcdefghijklmnopqrstuvwxyzABCDEFGHIJKLMNOPQRSTUVWXYZ '\n",
        "    )\n",
        "\n",
        "    alphabet.append(\"'\")\n",
        "\n",
        "    allowed = set(currencies + alphabet)\n",
        "\n",
        "    cleaned_text = [sym for sym in text if sym in allowed]\n",
        "    cleaned_text = \"\".join(cleaned_text)\n",
        "\n",
        "    return cleaned_text\n",
        "\n",
        "\n",
        "def process(pipeline, text=\"Строка\", keep_pos=True, keep_punct=False):\n",
        "    # Если частеречные тэги не нужны (например, их нет в модели), выставьте pos=False\n",
        "    # в этом случае на выход будут поданы только леммы\n",
        "    # По умолчанию знаки пунктуации вырезаются. Чтобы сохранить их, выставьте punct=True\n",
        "\n",
        "    entities = {\"PROPN\"}\n",
        "    named = False\n",
        "    memory = []\n",
        "    mem_case = None\n",
        "    mem_number = None\n",
        "    tagged_propn = []\n",
        "\n",
        "    # обрабатываем текст, получаем результат в формате conllu:\n",
        "    processed = pipeline.process(text)\n",
        "\n",
        "    # пропускаем строки со служебной информацией:\n",
        "    content = [line for line in processed.split(\"\\n\") if not line.startswith(\"#\")]\n",
        "\n",
        "    # извлекаем из обработанного текста леммы, тэги и морфологические характеристики\n",
        "    tagged = [w.split(\"\\t\") for w in content if w]\n",
        "\n",
        "    for t in tagged:\n",
        "        if len(t) != 10:\n",
        "            continue\n",
        "        (word_id, token, lemma, pos, xpos, feats, head, deprel, deps, misc) = t\n",
        "        token = clean_token(token, misc)\n",
        "        lemma = clean_lemma(lemma, pos)\n",
        "        if not lemma or not token:\n",
        "            continue\n",
        "        if pos in entities:\n",
        "            if \"|\" not in feats:\n",
        "                tagged_propn.append(\"%s_%s\" % (lemma, pos))\n",
        "                continue\n",
        "            morph = {el.split(\"=\")[0]: el.split(\"=\")[1] for el in feats.split(\"|\")}\n",
        "            if \"Case\" not in morph or \"Number\" not in morph:\n",
        "                tagged_propn.append(\"%s_%s\" % (lemma, pos))\n",
        "                continue\n",
        "            if not named:\n",
        "                named = True\n",
        "                mem_case = morph[\"Case\"]\n",
        "                mem_number = morph[\"Number\"]\n",
        "            if morph[\"Case\"] == mem_case and morph[\"Number\"] == mem_number:\n",
        "                memory.append(lemma)\n",
        "                if \"SpacesAfter=\\\\n\" in misc or \"SpacesAfter=\\s\\\\n\" in misc:\n",
        "                    named = False\n",
        "                    past_lemma = \"::\".join(memory)\n",
        "                    memory = []\n",
        "                    tagged_propn.append(past_lemma + \"_PROPN\")\n",
        "            else:\n",
        "                named = False\n",
        "                past_lemma = \"::\".join(memory)\n",
        "                memory = []\n",
        "                tagged_propn.append(past_lemma + \"_PROPN\")\n",
        "                tagged_propn.append(\"%s_%s\" % (lemma, pos))\n",
        "        else:\n",
        "            if not named:\n",
        "                if (\n",
        "                    pos == \"NUM\" and token.isdigit()\n",
        "                ):  # Заменяем числа на xxxxx той же длины\n",
        "                    lemma = num_replace(token)\n",
        "                tagged_propn.append(\"%s_%s\" % (lemma, pos))\n",
        "            else:\n",
        "                named = False\n",
        "                past_lemma = \"::\".join(memory)\n",
        "                memory = []\n",
        "                tagged_propn.append(past_lemma + \"_PROPN\")\n",
        "                tagged_propn.append(\"%s_%s\" % (lemma, pos))\n",
        "\n",
        "    if not keep_punct:\n",
        "        tagged_propn = [word for word in tagged_propn if word.split(\"_\")[1] != \"PUNCT\"]\n",
        "    if not keep_pos:\n",
        "        tagged_propn = [word.split(\"_\")[0] for word in tagged_propn]\n",
        "    return tagged_propn\n",
        "\n",
        "\n",
        "# URL of the UDPipe model\n",
        "udpipe_model_url = \"https://rusvectores.org/static/models/udpipe_syntagrus.model\"\n",
        "udpipe_filename = udpipe_model_url.split(\"/\")[-1]\n",
        "\n",
        "if not os.path.isfile(udpipe_filename):\n",
        "    print(\"UDPipe model not found. Downloading...\", file=sys.stderr)\n",
        "    wget.download(udpipe_model_url)\n",
        "\n",
        "print(\"\\nLoading the model...\", file=sys.stderr)\n",
        "model = Model.load(udpipe_filename)\n",
        "process_pipeline = Pipeline(\n",
        "    model, \"tokenize\", Pipeline.DEFAULT, Pipeline.DEFAULT, \"conllu\"\n",
        ")\n",
        "\n",
        "print(\"Processing input...\", file=sys.stderr)\n",
        "for input_line in sys.stdin:\n",
        "    res = unify_sym(input_line.strip())\n",
        "    output = process(process_pipeline, text=res)\n",
        "    print(\" \".join(output))\n",
        "\n",
        "from ufal.udpipe import Model, Pipeline\n",
        "import os\n",
        "import re\n",
        "import sys\n",
        "\n",
        "def tag_ud(text='Текст нужно передать функции в виде строки!', modelfile='udpipe_syntagrus.model'):\n",
        "    udpipe_model_url = 'https://rusvectores.org/static/models/udpipe_syntagrus.model'\n",
        "    udpipe_filename = udpipe_model_url.split('/')[-1]\n",
        "\n",
        "    if not os.path.isfile(modelfile):\n",
        "        print('UDPipe model not found. Downloading...', file=sys.stderr)\n",
        "        wget.download(udpipe_model_url)\n",
        "\n",
        "    print('\\nLoading the model...', file=sys.stderr)\n",
        "    model = Model.load(modelfile)\n",
        "    process_pipeline = Pipeline(model, 'tokenize', Pipeline.DEFAULT, Pipeline.DEFAULT, 'conllu')\n",
        "    tagged_text = []\n",
        "    print('Processing input...', file=sys.stderr)\n",
        "    for line in text:\n",
        "        # line = unify_sym(line.strip()) # здесь могла бы быть ваша функция очистки текста\n",
        "        output = process(process_pipeline, text=line)\n",
        "        tagged_text.append(' '.join(output))\n",
        "        print(' '.join(output))\n",
        "    return tagged_text"
      ],
      "metadata": {
        "colab": {
          "base_uri": "https://localhost:8080/"
        },
        "id": "t-GA6WeJ7rNI",
        "outputId": "cf90dd6b-e41d-4049-b075-edc5a99a8588"
      },
      "execution_count": 32,
      "outputs": [
        {
          "output_type": "stream",
          "name": "stderr",
          "text": [
            "UDPipe model not found. Downloading...\n",
            "\n",
            "Loading the model...\n",
            "Processing input...\n"
          ]
        }
      ]
    },
    {
      "cell_type": "code",
      "source": [
        "tokens_sentences_tg = tag_ud(text_from_telegram)"
      ],
      "metadata": {
        "id": "0PtMjRDg8axu"
      },
      "execution_count": null,
      "outputs": []
    },
    {
      "cell_type": "code",
      "source": [
        "tokens_sentences_tg[0:10]"
      ],
      "metadata": {
        "colab": {
          "base_uri": "https://localhost:8080/"
        },
        "id": "RFg6YsoS2-pn",
        "outputId": "d96fbff6-c6eb-4d89-abcb-233df4365ef3"
      },
      "execution_count": 37,
      "outputs": [
        {
          "output_type": "execute_result",
          "data": {
            "text/plain": [
              "['е_PROPN',\n",
              " 'с_ADP',\n",
              " '',\n",
              " 'бы_PART',\n",
              " 'о_ADP',\n",
              " 'река_NOUN',\n",
              " 'быть_NOUN',\n",
              " 'том_NOUN',\n",
              " 'с_ADP',\n",
              " 'я_PRON']"
            ]
          },
          "metadata": {},
          "execution_count": 37
        }
      ]
    },
    {
      "cell_type": "code",
      "source": [
        "vectors = [model2.get_vector(word) for word in tokens_sentences_tg if word in list(model2.index_to_key)]"
      ],
      "metadata": {
        "id": "v0S0QCRz3J2s"
      },
      "execution_count": 35,
      "outputs": []
    },
    {
      "cell_type": "code",
      "source": [
        "vectors[0]"
      ],
      "metadata": {
        "colab": {
          "base_uri": "https://localhost:8080/"
        },
        "id": "gDStaI9J-ZYb",
        "outputId": "41bf63f3-a959-4826-ca93-eb091db13658"
      },
      "execution_count": 39,
      "outputs": [
        {
          "output_type": "execute_result",
          "data": {
            "text/plain": [
              "array([ 3.75830047e-02,  2.56880037e-02,  2.57930029e-02,  8.45400058e-03,\n",
              "        2.38290038e-02, -6.04270063e-02,  1.32200019e-02,  5.35640083e-02,\n",
              "       -1.25220018e-02,  1.82400011e-02,  8.77640098e-02,  2.60150041e-02,\n",
              "        1.44220022e-02, -2.56100018e-03,  5.92200086e-02,  6.62450045e-02,\n",
              "        2.28660014e-02, -2.81800032e-02,  9.00000123e-06, -1.44130019e-02,\n",
              "       -6.42990097e-02,  7.93600082e-03, -7.99100101e-03,  2.95840036e-02,\n",
              "        2.55240034e-02, -6.46600081e-03, -4.95900027e-03,  6.70830086e-02,\n",
              "        3.80420052e-02,  6.14570081e-02, -5.22960089e-02,  1.83880012e-02,\n",
              "       -9.08900052e-03,  2.43640039e-02,  1.10286012e-01, -4.66810055e-02,\n",
              "       -5.94990067e-02, -2.85750031e-02, -3.64390053e-02,  1.15590012e-02,\n",
              "        4.22530025e-02, -4.29350026e-02, -2.62700040e-02,  5.97040057e-02,\n",
              "       -4.29770052e-02,  3.92300030e-03, -3.18880044e-02, -5.77270091e-02,\n",
              "       -4.30300049e-02,  1.64410025e-02,  7.58200064e-02,  3.66000040e-03,\n",
              "        1.77540015e-02,  5.47180064e-02,  7.52620101e-02, -2.30480023e-02,\n",
              "        1.19775012e-01,  5.60780093e-02,  5.22700045e-03,  7.23140091e-02,\n",
              "        5.91870062e-02, -1.42464012e-01, -6.14500083e-02, -7.76950046e-02,\n",
              "       -1.79899022e-01, -5.42410091e-02, -5.60420081e-02,  3.07060033e-02,\n",
              "       -3.47660035e-02,  3.63550037e-02, -1.60300024e-02, -3.34750041e-02,\n",
              "       -2.03260016e-02,  8.51910040e-02,  3.98280025e-02,  2.16590017e-02,\n",
              "       -2.67730039e-02,  5.48130088e-02,  3.32680047e-02,  2.79560033e-02,\n",
              "       -1.93740018e-02,  3.07110045e-02, -3.06990035e-02, -3.23290043e-02,\n",
              "       -7.30250105e-02,  9.34270099e-02,  4.32810038e-02,  1.13726012e-01,\n",
              "       -1.29850022e-02, -1.08490009e-02, -3.01410034e-02, -4.81060073e-02,\n",
              "        1.58550013e-02,  8.36150050e-02, -5.67600038e-03, -2.06830017e-02,\n",
              "       -3.16490047e-02,  4.56530042e-02, -1.33890018e-01,  8.42200126e-03,\n",
              "        3.76030020e-02,  1.11900014e-03,  3.54830027e-02, -3.62080038e-02,\n",
              "        1.39880022e-02, -6.18060082e-02,  1.45810023e-02, -8.85550082e-02,\n",
              "       -7.47520104e-02, -6.47700112e-03, -3.20000038e-03,  4.98690084e-02,\n",
              "        3.15160044e-02, -1.91000011e-02,  1.12690013e-02, -1.18250018e-02,\n",
              "       -5.18790074e-02,  3.09410039e-02,  5.70610091e-02,  5.69920093e-02,\n",
              "       -6.40710071e-02, -4.99030091e-02,  9.54810157e-02, -4.37950045e-02,\n",
              "       -4.28600051e-02, -7.72290081e-02,  1.37493014e-01,  5.11700064e-02,\n",
              "       -3.42640020e-02, -8.11800081e-03,  4.12330031e-02, -2.11300026e-03,\n",
              "        1.48210023e-02,  3.05770040e-02,  5.71080074e-02,  4.58060019e-02,\n",
              "       -4.71380092e-02, -3.28030027e-02, -7.16510043e-02, -3.44440043e-02,\n",
              "       -9.60800126e-02,  8.19910094e-02, -4.21940051e-02,  4.43710051e-02,\n",
              "       -2.74660029e-02, -1.21350018e-02, -3.25430036e-02,  1.81430019e-02,\n",
              "        3.59100057e-03, -9.70540121e-02, -4.60320041e-02, -4.94570062e-02,\n",
              "        5.75800091e-02, -7.85760060e-02, -2.91860029e-02,  2.62830034e-02,\n",
              "        4.61350046e-02, -3.45530026e-02,  5.50790057e-02,  1.25082016e-01,\n",
              "       -1.16570005e-02,  2.33000028e-03,  5.34100085e-02,  9.16500092e-02,\n",
              "       -1.03410007e-02, -4.50630039e-02,  5.21490090e-02,  6.47890046e-02,\n",
              "       -9.16920081e-02,  2.27900012e-03, -7.96500128e-03, -2.81020030e-02,\n",
              "       -5.01990058e-02,  2.98770033e-02, -5.68610057e-02, -2.17360016e-02,\n",
              "       -5.10610081e-02,  8.81740078e-02, -3.81870046e-02, -7.28230104e-02,\n",
              "       -1.37570016e-02,  1.33780017e-02, -7.19590038e-02,  4.44900058e-03,\n",
              "        3.39810029e-02,  1.89380012e-02,  6.09990060e-02, -1.66210011e-02,\n",
              "        8.01000104e-04,  6.84760064e-02,  1.42200012e-03, -1.81960016e-02,\n",
              "        1.15060005e-02, -1.73240025e-02, -3.35690044e-02,  5.83540089e-02,\n",
              "       -8.80280063e-02,  7.68960044e-02,  7.29100080e-03, -8.63370076e-02,\n",
              "        5.40380068e-02,  6.16510063e-02, -1.65245011e-01,  5.40730059e-02,\n",
              "       -3.08440030e-02,  4.20110039e-02,  7.29160085e-02, -2.03950014e-02,\n",
              "        6.85400097e-03,  2.60870028e-02, -4.24280055e-02,  3.56240049e-02,\n",
              "        7.00680092e-02, -4.76480089e-02, -8.46050084e-02,  1.41783014e-01,\n",
              "       -7.27870092e-02, -1.54510019e-02, -6.77200081e-03,  1.43100008e-01,\n",
              "       -4.87750061e-02,  1.54135019e-01, -6.02970086e-02,  3.98900034e-03,\n",
              "       -2.30480023e-02,  1.66640021e-02, -1.87690016e-02, -1.70670021e-02,\n",
              "       -5.25260083e-02,  1.31214008e-01,  1.38569012e-01,  1.16530005e-02,\n",
              "       -8.42650086e-02,  6.23270087e-02,  3.60630043e-02,  6.65740073e-02,\n",
              "       -4.64500068e-03, -3.55620049e-02, -8.52910057e-02,  3.41070034e-02,\n",
              "        1.05166018e-01, -3.32520045e-02, -4.57350053e-02,  2.81500025e-03,\n",
              "       -6.53090104e-02, -2.63940040e-02, -2.65090037e-02,  8.10710043e-02,\n",
              "       -1.20347016e-01,  3.64690050e-02, -3.00670043e-02,  1.98740028e-02,\n",
              "        4.54830043e-02,  1.31700020e-02,  5.80570064e-02, -8.14770088e-02,\n",
              "       -8.22300091e-03, -2.34160013e-02,  1.28290020e-02, -3.04460041e-02,\n",
              "        5.90350069e-02, -5.44470064e-02, -5.91910072e-02, -7.95360059e-02,\n",
              "        1.23795018e-01,  5.69830090e-02,  1.26584008e-01,  9.95020121e-02,\n",
              "        8.82590041e-02, -9.88200158e-02,  1.56360026e-02,  8.76010060e-02,\n",
              "       -1.11366011e-01, -6.55750111e-02,  4.87790070e-02,  8.72400124e-03,\n",
              "        7.42530078e-02, -1.75630022e-02,  8.29000142e-04, -2.84630042e-02,\n",
              "       -2.35340036e-02, -2.10800022e-03,  1.74295008e-01, -1.79440025e-02,\n",
              "       -7.36600086e-02,  9.44700092e-03,  8.70570093e-02,  1.84510015e-02,\n",
              "       -2.84700040e-02, -3.17270048e-02,  3.11720036e-02, -7.29470104e-02,\n",
              "       -4.44600023e-02, -8.32000095e-03,  1.13015018e-01,  6.96060061e-02,\n",
              "        5.54730073e-02, -8.60800128e-03, -3.09220031e-02, -2.97770035e-02],\n",
              "      dtype=float32)"
            ]
          },
          "metadata": {},
          "execution_count": 39
        }
      ]
    }
  ]
}