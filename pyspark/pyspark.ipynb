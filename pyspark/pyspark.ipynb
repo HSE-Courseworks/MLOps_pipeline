{
  "nbformat": 4,
  "nbformat_minor": 0,
  "metadata": {
    "colab": {
      "provenance": []
    },
    "kernelspec": {
      "name": "python3",
      "display_name": "Python 3"
    },
    "language_info": {
      "name": "python"
    }
  },
  "cells": [
    {
      "cell_type": "markdown",
      "source": [
        "#### Загружаем .db файл"
      ],
      "metadata": {
        "id": "X1VAblRLXFlG"
      }
    },
    {
      "cell_type": "code",
      "source": [
        "from google.colab import files\n",
        "uploaded = files.upload()"
      ],
      "metadata": {
        "id": "w-VxZ8yKh88v"
      },
      "execution_count": null,
      "outputs": []
    },
    {
      "cell_type": "markdown",
      "source": [
        "#### Загружаем файл драйвера"
      ],
      "metadata": {
        "id": "5D_0odFyXV2v"
      }
    },
    {
      "cell_type": "code",
      "source": [
        "!wget https://repo1.maven.org/maven2/org/xerial/sqlite-jdbc/3.34.0/sqlite-jdbc-3.34.0.jar"
      ],
      "metadata": {
        "id": "eyTOJP2cXVqF"
      },
      "execution_count": null,
      "outputs": []
    },
    {
      "cell_type": "markdown",
      "source": [
        "#### Установка необходимых библиотек"
      ],
      "metadata": {
        "id": "SPuxZF5cXitv"
      }
    },
    {
      "cell_type": "code",
      "execution_count": null,
      "metadata": {
        "id": "3drZoKVy_MfH"
      },
      "outputs": [],
      "source": [
        "!pip install pyspark"
      ]
    },
    {
      "cell_type": "markdown",
      "source": [
        "#### Импорт необходимых библиотек"
      ],
      "metadata": {
        "id": "KMTEVPpBXvFR"
      }
    },
    {
      "cell_type": "code",
      "source": [
        "from pyspark.sql import SparkSession\n",
        "from pyspark.ml.feature import Tokenizer"
      ],
      "metadata": {
        "id": "zAq_GcS0Jnc4"
      },
      "execution_count": 27,
      "outputs": []
    },
    {
      "cell_type": "markdown",
      "source": [
        "#### Создание spark сессии"
      ],
      "metadata": {
        "id": "IALYXfonX4qb"
      }
    },
    {
      "cell_type": "code",
      "source": [
        "spark = SparkSession.builder \\\n",
        "          .config('spark.jars.packages', 'org.xerial:sqlite-jdbc:3.34.0') \\\n",
        "          .getOrCreate()"
      ],
      "metadata": {
        "id": "lvQ_VZs7UMR3"
      },
      "execution_count": 5,
      "outputs": []
    },
    {
      "cell_type": "markdown",
      "source": [
        "#### Загрузка таблицы постов"
      ],
      "metadata": {
        "id": "FmVT74mCYB4Q"
      }
    },
    {
      "cell_type": "code",
      "source": [
        "df = spark.read.format('jdbc') \\\n",
        "       .options(driver='org.sqlite.JDBC', dbtable='posts',\n",
        "                url='jdbc:sqlite:telegram_data.db') \\\n",
        "       .load()"
      ],
      "metadata": {
        "id": "r_RoreItUViU"
      },
      "execution_count": 28,
      "outputs": []
    },
    {
      "cell_type": "markdown",
      "source": [
        "#### Создание токенайзера"
      ],
      "metadata": {
        "id": "ff2gQfanbwh1"
      }
    },
    {
      "cell_type": "code",
      "source": [
        "tokenizer = Tokenizer(inputCol=\"post_text\", outputCol=\"words\")"
      ],
      "metadata": {
        "id": "29vxZXMoajFp"
      },
      "execution_count": 29,
      "outputs": []
    },
    {
      "cell_type": "markdown",
      "source": [
        "#### Токенизация"
      ],
      "metadata": {
        "id": "lpBJsSN_b0af"
      }
    },
    {
      "cell_type": "code",
      "source": [
        "df = tokenizer.transform(df)"
      ],
      "metadata": {
        "id": "RvLndW7vbFVn"
      },
      "execution_count": 30,
      "outputs": []
    },
    {
      "cell_type": "markdown",
      "source": [
        "#### Вывод строчек"
      ],
      "metadata": {
        "id": "jwLXvKVIb27c"
      }
    },
    {
      "cell_type": "code",
      "source": [
        "rows = df.collect()\n",
        "for row in rows:\n",
        "  print(row)"
      ],
      "metadata": {
        "id": "TFqTnn-VbFiX"
      },
      "execution_count": null,
      "outputs": []
    }
  ]
}