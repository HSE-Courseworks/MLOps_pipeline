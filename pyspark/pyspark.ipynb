{
  "nbformat": 4,
  "nbformat_minor": 0,
  "metadata": {
    "colab": {
      "provenance": []
    },
    "kernelspec": {
      "name": "python3",
      "display_name": "Python 3"
    },
    "language_info": {
      "name": "python"
    }
  },
  "cells": [
    {
      "cell_type": "markdown",
      "source": [
        "#### Uploading the .db file"
      ],
      "metadata": {
        "id": "X1VAblRLXFlG"
      }
    },
    {
      "cell_type": "code",
      "source": [
        "from google.colab import files\n",
        "uploaded = files.upload()"
      ],
      "metadata": {
        "id": "w-VxZ8yKh88v"
      },
      "execution_count": null,
      "outputs": []
    },
    {
      "cell_type": "markdown",
      "source": [
        "#### Downloading the driver file"
      ],
      "metadata": {
        "id": "5D_0odFyXV2v"
      }
    },
    {
      "cell_type": "code",
      "source": [
        "!wget https://repo1.maven.org/maven2/org/xerial/sqlite-jdbc/3.34.0/sqlite-jdbc-3.34.0.jar\n",
        "!wget https://repo1.maven.org/maven2/com/johnsnowlabs/nlp/spark-nlp_2.12/5.1.4/spark-nlp_2.12-5.1.4.jar\n",
        "!wget https://repo1.maven.org/maven2/com/amazonaws/aws-java-sdk-bundle/1.11.900/aws-java-sdk-bundle-1.11.900.jar"
      ],
      "metadata": {
        "id": "eyTOJP2cXVqF"
      },
      "execution_count": null,
      "outputs": []
    },
    {
      "cell_type": "markdown",
      "source": [
        "#### Installing the necessary libraries"
      ],
      "metadata": {
        "id": "SPuxZF5cXitv"
      }
    },
    {
      "cell_type": "code",
      "execution_count": null,
      "metadata": {
        "id": "3drZoKVy_MfH"
      },
      "outputs": [],
      "source": [
        "!pip install pyspark\n",
        "!pip install spark-nlp==5.1.4"
      ]
    },
    {
      "cell_type": "markdown",
      "source": [
        "#### Import of necessary libraries"
      ],
      "metadata": {
        "id": "KMTEVPpBXvFR"
      }
    },
    {
      "cell_type": "code",
      "source": [
        "from pyspark.sql import SparkSession\n",
        "from pyspark.sql import functions as F\n",
        "from pyspark.ml import Pipeline\n",
        "from pyspark.ml.feature import Word2Vec\n",
        "from sparknlp.base import DocumentAssembler, Finisher\n",
        "from sparknlp.annotator import LemmatizerModel, Tokenizer as SparkNLPTokenizer, StopWordsCleaner"
      ],
      "metadata": {
        "id": "zAq_GcS0Jnc4"
      },
      "execution_count": 4,
      "outputs": []
    },
    {
      "cell_type": "markdown",
      "source": [
        "#### Creating a spark session"
      ],
      "metadata": {
        "id": "IALYXfonX4qb"
      }
    },
    {
      "cell_type": "code",
      "source": [
        "spark = SparkSession.builder \\\n",
        " .config('spark.jars', './*') \\\n",
        " .getOrCreate()"
      ],
      "metadata": {
        "id": "lvQ_VZs7UMR3"
      },
      "execution_count": 5,
      "outputs": []
    },
    {
      "cell_type": "markdown",
      "source": [
        "#### Loading the post table in dataframe"
      ],
      "metadata": {
        "id": "FmVT74mCYB4Q"
      }
    },
    {
      "cell_type": "code",
      "source": [
        "df = spark.read.format('jdbc') \\\n",
        " .options(driver='org.sqlite.JDBC', dbtable='posts',\n",
        "       url='jdbc:sqlite:telegram_data.db') \\\n",
        " .load()"
      ],
      "metadata": {
        "id": "r_RoreItUViU"
      },
      "execution_count": 6,
      "outputs": []
    },
    {
      "cell_type": "markdown",
      "source": [
        "#### Removing extra characters"
      ],
      "metadata": {
        "id": "4rz9BQf_wAvu"
      }
    },
    {
      "cell_type": "code",
      "source": [
        "df = df.withColumn('post_text', F.regexp_replace(df.post_text, '[^\\\\wа-яА-Я\\\\s]', ''))"
      ],
      "metadata": {
        "id": "39ZOOJEJwAAo"
      },
      "execution_count": 7,
      "outputs": []
    },
    {
      "cell_type": "markdown",
      "source": [
        "#### Collecting documents from the text of posts"
      ],
      "metadata": {
        "id": "d5nbTLrnlTm2"
      }
    },
    {
      "cell_type": "code",
      "source": [
        "documentAssembler = DocumentAssembler() \\\n",
        " .setInputCol(\"post_text\") \\\n",
        " .setOutputCol(\"document\")"
      ],
      "metadata": {
        "id": "gQOST7znkgDL"
      },
      "execution_count": 8,
      "outputs": []
    },
    {
      "cell_type": "markdown",
      "source": [
        "#### Converting documents to tokens"
      ],
      "metadata": {
        "id": "dT6WaTtZlWGT"
      }
    },
    {
      "cell_type": "code",
      "source": [
        "spark_nlp_tokenizer = SparkNLPTokenizer() \\\n",
        " .setInputCols([\"document\"]) \\\n",
        " .setOutputCol(\"token\")"
      ],
      "metadata": {
        "id": "eYjQXjUUk5cQ"
      },
      "execution_count": 9,
      "outputs": []
    },
    {
      "cell_type": "markdown",
      "source": [
        "#### Removing stop words"
      ],
      "metadata": {
        "id": "4sRVBs3klwRO"
      }
    },
    {
      "cell_type": "code",
      "source": [
        "stop_words = StopWordsCleaner.pretrained(\"stopwords_ru\", \"ru\") \\\n",
        " .setInputCols([\"token\"]) \\\n",
        " .setOutputCol(\"cleanTokens\")"
      ],
      "metadata": {
        "colab": {
          "base_uri": "https://localhost:8080/"
        },
        "id": "TxXgR-bEk7LR",
        "outputId": "9330145a-07f3-417e-c243-d67d7aa27187"
      },
      "execution_count": 10,
      "outputs": [
        {
          "output_type": "stream",
          "name": "stdout",
          "text": [
            "stopwords_ru download started this may take some time.\n",
            "Approximate size to download 2.9 KB\n",
            "[OK!]\n"
          ]
        }
      ]
    },
    {
      "cell_type": "markdown",
      "source": [
        "#### Lemmatizing tokens"
      ],
      "metadata": {
        "id": "iXZtcW9Wl6R7"
      }
    },
    {
      "cell_type": "code",
      "source": [
        "lemmatizer = LemmatizerModel.pretrained(\"lemma\", \"ru\") \\\n",
        " .setInputCols([\"cleanTokens\"]) \\\n",
        " .setOutputCol(\"lemma\")"
      ],
      "metadata": {
        "colab": {
          "base_uri": "https://localhost:8080/"
        },
        "id": "b2MKWOPWk8de",
        "outputId": "ade2afde-3db6-4026-920f-c91036889a74"
      },
      "execution_count": 11,
      "outputs": [
        {
          "output_type": "stream",
          "name": "stdout",
          "text": [
            "lemma download started this may take some time.\n",
            "Approximate size to download 1.3 MB\n",
            "[OK!]\n"
          ]
        }
      ]
    },
    {
      "cell_type": "markdown",
      "source": [
        "#### Collect final results into an array"
      ],
      "metadata": {
        "id": "n5WnDDM9mUSC"
      }
    },
    {
      "cell_type": "code",
      "source": [
        "finisher = Finisher() \\\n",
        " .setInputCols([\"lemma\"]) \\\n",
        " .setIncludeMetadata(False)"
      ],
      "metadata": {
        "id": "Yoj_W4WOk9pI"
      },
      "execution_count": 12,
      "outputs": []
    },
    {
      "cell_type": "markdown",
      "source": [
        "#### Create a pipeline for data processing and apply it to the data"
      ],
      "metadata": {
        "id": "rEsQcgPHmiFz"
      }
    },
    {
      "cell_type": "code",
      "source": [
        "pipeline = Pipeline(stages=[documentAssembler, spark_nlp_tokenizer, stop_words, lemmatizer, finisher])\n",
        "result = pipeline.fit(df).transform(df)"
      ],
      "metadata": {
        "id": "0YKv0RF6k_1T"
      },
      "execution_count": 13,
      "outputs": []
    },
    {
      "cell_type": "markdown",
      "source": [
        "#### Set up the Word2Vec model for vectorization and apply it to data"
      ],
      "metadata": {
        "id": "5XfMyFiqPCxq"
      }
    },
    {
      "cell_type": "code",
      "source": [
        "word2Vec = Word2Vec(vectorSize=100, minCount=5, inputCol=\"finished_lemma\", outputCol=\"vector\")\n",
        "result = word2Vec.fit(result).transform(result)"
      ],
      "metadata": {
        "id": "t5PUDt_GPCgD"
      },
      "execution_count": 14,
      "outputs": []
    },
    {
      "cell_type": "markdown",
      "source": [
        "#### Conclusion results"
      ],
      "metadata": {
        "id": "iJUISjM7oKDR"
      }
    },
    {
      "cell_type": "code",
      "source": [
        "for row in result.select('vector').collect():\n",
        " print(row)"
      ],
      "metadata": {
        "colab": {
          "base_uri": "https://localhost:8080/"
        },
        "id": "FxLhOcd1lBxk",
        "outputId": "654220fe-b139-43b2-a42b-082dcb65cb0f"
      },
      "execution_count": 16,
      "outputs": [
        {
          "output_type": "stream",
          "name": "stdout",
          "text": [
            "Row(vector=DenseVector([0.0003, -0.0002, 0.0002, -0.0001, 0.0003, -0.0002, 0.0, -0.0001, 0.0001, 0.0001, -0.0001, -0.0001, 0.0001, -0.0002, -0.0002, -0.0003, 0.0, 0.0004, 0.0004, -0.0005, -0.0001, 0.0002, -0.0001, -0.0004, 0.0001, -0.0001, -0.0005, -0.0003, 0.0, 0.0002, -0.0002, 0.0005, -0.0005, 0.0002, 0.0001, 0.0001, -0.0002, 0.0003, -0.0002, 0.0002, -0.0, -0.0001, 0.0, 0.0002, -0.0001, 0.0, 0.0005, 0.0003, -0.0003, -0.0001, 0.0002, -0.0004, 0.0001, 0.0002, 0.0005, -0.0002, 0.0, 0.0003, -0.0002, -0.0003, -0.0002, -0.0004, -0.0003, 0.0001, 0.0005, 0.0002, 0.0003, 0.0004, -0.0001, 0.0002, -0.0002, -0.0, 0.0003, 0.0, -0.0001, -0.0002, 0.0001, 0.0, -0.0002, 0.0003, -0.0005, 0.0005, -0.0003, -0.0, 0.0, 0.0003, -0.0001, -0.0001, 0.0001, -0.0001, -0.0004, -0.0001, -0.0004, 0.0003, -0.0, -0.0003, -0.0003, -0.0002, 0.0, 0.0002]))\n",
            "Row(vector=DenseVector([0.0003, -0.0001, 0.0, 0.0001, 0.0001, 0.0001, -0.0003, 0.0002, -0.0001, 0.0003, 0.0001, 0.0001, 0.0005, 0.0002, 0.0002, 0.0003, 0.0005, -0.0001, 0.0001, 0.0, -0.0004, 0.0002, -0.0, -0.0002, 0.0001, 0.0001, -0.0, 0.0, -0.0001, -0.0002, -0.0001, -0.0001, -0.0004, -0.0, 0.0004, -0.0001, 0.0003, 0.0001, -0.0001, -0.0003, -0.0001, -0.0003, -0.0002, 0.0005, 0.0001, -0.0003, -0.0003, -0.0002, 0.0001, 0.0001, -0.0001, 0.0001, 0.0, 0.0003, 0.0002, -0.0003, 0.0001, 0.0, -0.0002, 0.0002, -0.0001, 0.0005, -0.0002, -0.0, 0.0002, 0.0003, -0.0002, -0.0, 0.0002, -0.0001, -0.0, 0.0001, 0.0002, 0.0002, 0.0002, -0.0001, -0.0, -0.0002, -0.0001, 0.0001, -0.0001, 0.0004, 0.0001, 0.0002, -0.0001, -0.0, 0.0, -0.0005, -0.0003, 0.0003, 0.0002, 0.0, 0.0001, -0.0001, -0.0001, -0.0002, -0.0002, -0.0002, -0.0002, -0.0001]))\n",
            "Row(vector=DenseVector([0.0002, 0.0001, 0.0002, -0.0, 0.0002, 0.0001, -0.0, -0.0003, 0.0001, -0.0001, 0.0002, 0.0001, 0.0002, -0.0003, 0.0001, 0.0002, 0.0005, 0.0001, 0.0002, -0.0001, -0.0002, 0.0001, -0.0, -0.0001, 0.0002, -0.0002, -0.0001, 0.0001, -0.0001, -0.0004, 0.0003, -0.0004, -0.0002, -0.0002, 0.0001, 0.0, 0.0, -0.0, -0.0001, -0.0006, 0.0, -0.0002, -0.0001, 0.0001, 0.0, -0.0004, -0.0, -0.0002, 0.0002, 0.0003, -0.0, 0.0002, 0.0, 0.0002, 0.0001, 0.0001, -0.0003, -0.0001, -0.0, 0.0003, -0.0003, 0.0001, -0.0001, -0.0005, 0.0003, 0.0002, 0.0004, 0.0002, 0.0002, -0.0001, -0.0, 0.0001, 0.0002, 0.0006, -0.0002, 0.0001, 0.0002, -0.0001, 0.0, 0.0003, -0.0, 0.0, 0.0002, 0.0001, 0.0002, 0.0002, -0.0002, -0.0002, -0.0003, -0.0002, -0.0001, 0.0001, -0.0001, -0.0001, 0.0001, -0.0001, -0.0004, 0.0003, 0.0, 0.0002]))\n",
            "Row(vector=DenseVector([-0.0001, 0.0001, 0.0002, 0.0001, -0.0002, 0.0002, 0.0003, -0.0002, 0.0003, -0.0, -0.0001, -0.0002, -0.0002, -0.0001, -0.0001, 0.0002, 0.0004, 0.0001, 0.0004, 0.0, 0.0002, -0.0001, 0.0002, -0.0001, 0.0002, 0.0002, 0.0001, -0.0001, 0.0001, 0.0003, 0.0001, -0.0001, -0.0004, 0.0001, 0.0, 0.0002, -0.0004, -0.0004, -0.0002, -0.0001, -0.0002, -0.0001, 0.0002, 0.0002, 0.0, -0.0, 0.0, 0.0001, -0.0002, -0.0002, 0.0003, 0.0001, -0.0002, 0.0002, -0.0001, 0.0001, 0.0001, 0.0002, -0.0005, -0.0, -0.0001, -0.0001, 0.0, 0.0002, 0.0001, 0.0, -0.0, 0.0, -0.0004, 0.0001, -0.0004, -0.0002, 0.0005, 0.0001, -0.0, 0.0002, -0.0001, -0.0004, -0.0001, -0.0002, 0.0001, 0.0001, -0.0001, -0.0002, 0.0, -0.0, -0.0001, -0.0, -0.0003, 0.0001, 0.0, 0.0002, 0.0002, -0.0003, 0.0001, 0.0002, 0.0, -0.0004, 0.0001, -0.0004]))\n",
            "Row(vector=DenseVector([0.0, -0.0002, 0.0001, 0.0003, -0.0002, -0.0, 0.0, -0.0, -0.0002, 0.0002, 0.0001, 0.0003, 0.0, 0.0, 0.0001, -0.0001, -0.0, 0.0, -0.0001, 0.0001, 0.0001, -0.0002, 0.0001, 0.0, 0.0002, -0.0003, -0.0001, 0.0004, -0.0003, 0.0002, 0.0001, -0.0001, 0.0001, -0.0003, -0.0001, 0.0002, 0.0, 0.0003, -0.0003, -0.0002, -0.0003, -0.0, 0.0, -0.0002, -0.0, -0.0003, 0.0001, 0.0001, 0.0002, 0.0004, -0.0, -0.0002, 0.0001, 0.0002, 0.0001, 0.0003, 0.0001, 0.0001, -0.0002, 0.0002, -0.0002, -0.0002, -0.0004, -0.0003, -0.0, 0.0002, 0.0, 0.0002, 0.0, -0.0, 0.0001, -0.0001, -0.0001, 0.0002, -0.0002, -0.0001, 0.0004, -0.0001, -0.0001, 0.0001, -0.0002, 0.0002, -0.0002, 0.0003, -0.0001, 0.0003, 0.0001, -0.0003, 0.0, -0.0001, -0.0001, -0.0002, -0.0, -0.0, 0.0003, -0.0001, -0.0, 0.0004, -0.0002, 0.0005]))\n",
            "Row(vector=DenseVector([0.0, 0.0, 0.0, 0.0, 0.0, 0.0, 0.0, 0.0, 0.0, 0.0, 0.0, 0.0, 0.0, 0.0, 0.0, 0.0, 0.0, 0.0, 0.0, 0.0, 0.0, 0.0, 0.0, 0.0, 0.0, 0.0, 0.0, 0.0, 0.0, 0.0, 0.0, 0.0, 0.0, 0.0, 0.0, 0.0, 0.0, 0.0, 0.0, 0.0, 0.0, 0.0, 0.0, 0.0, 0.0, 0.0, 0.0, 0.0, 0.0, 0.0, 0.0, 0.0, 0.0, 0.0, 0.0, 0.0, 0.0, 0.0, 0.0, 0.0, 0.0, 0.0, 0.0, 0.0, 0.0, 0.0, 0.0, 0.0, 0.0, 0.0, 0.0, 0.0, 0.0, 0.0, 0.0, 0.0, 0.0, 0.0, 0.0, 0.0, 0.0, 0.0, 0.0, 0.0, 0.0, 0.0, 0.0, 0.0, 0.0, 0.0, 0.0, 0.0, 0.0, 0.0, 0.0, 0.0, 0.0, 0.0, 0.0, 0.0]))\n",
            "Row(vector=DenseVector([0.0001, 0.0001, -0.0, 0.0, 0.0001, 0.0001, 0.0001, -0.0001, 0.0, -0.0, 0.0001, 0.0001, 0.0001, -0.0001, -0.0001, 0.0001, 0.0001, 0.0001, 0.0001, -0.0, 0.0, 0.0, 0.0, -0.0, 0.0001, -0.0001, -0.0, 0.0001, -0.0002, -0.0002, 0.0002, -0.0002, -0.0, -0.0001, -0.0, -0.0, -0.0001, 0.0002, -0.0001, -0.0002, -0.0001, -0.0001, -0.0, -0.0001, -0.0001, -0.0002, 0.0, -0.0001, -0.0, 0.0002, 0.0, 0.0001, -0.0, 0.0001, 0.0001, 0.0001, -0.0001, -0.0, -0.0, 0.0001, -0.0001, -0.0, -0.0001, -0.0002, 0.0, 0.0, 0.0002, 0.0001, 0.0001, -0.0001, 0.0, -0.0, -0.0, 0.0001, -0.0, 0.0001, 0.0001, 0.0, 0.0, 0.0002, -0.0001, 0.0, 0.0001, 0.0001, -0.0, 0.0002, -0.0001, -0.0002, -0.0002, -0.0001, -0.0001, -0.0, -0.0, 0.0, 0.0001, -0.0, -0.0001, 0.0002, -0.0, 0.0001]))\n",
            "Row(vector=DenseVector([-0.0001, -0.0002, -0.0001, -0.0, 0.0, 0.0003, 0.0, 0.0003, 0.0001, -0.0, 0.0003, 0.0001, 0.0001, 0.0004, -0.0001, 0.0002, -0.0001, -0.0003, 0.0004, 0.0001, -0.0001, 0.0, -0.0, -0.0002, -0.0001, -0.0001, 0.0001, 0.0001, 0.0004, -0.0001, -0.0, 0.0001, -0.0002, 0.0003, 0.0, -0.0001, -0.0, -0.0002, -0.0002, -0.0002, -0.0, -0.0001, -0.0, 0.0001, 0.0002, -0.0002, 0.0001, -0.0002, 0.0003, -0.0, -0.0001, -0.0002, -0.0001, 0.0001, -0.0002, -0.0, -0.0, -0.0002, -0.0002, -0.0002, -0.0001, -0.0004, 0.0001, -0.0001, 0.0004, -0.0001, -0.0002, 0.0, -0.0001, 0.0, -0.0003, 0.0002, 0.0, 0.0002, 0.0002, 0.0003, 0.0002, -0.0002, 0.0001, -0.0, -0.0001, 0.0004, -0.0002, -0.0004, 0.0002, 0.0001, 0.0001, 0.0002, 0.0004, 0.0001, 0.0001, -0.0002, -0.0, -0.0002, 0.0001, 0.0001, 0.0003, 0.0, 0.0003, -0.0]))\n",
            "Row(vector=DenseVector([-0.0002, -0.0001, -0.0002, 0.0002, 0.0, -0.0002, -0.0002, 0.0002, -0.0002, -0.0002, -0.0001, 0.0, -0.0001, -0.0001, -0.0001, 0.0001, -0.0001, -0.0003, 0.0004, -0.0001, -0.0002, 0.0001, 0.0002, -0.0004, -0.0001, -0.0002, 0.0002, -0.0003, 0.0003, -0.0001, -0.0, 0.0001, -0.0, -0.0001, 0.0001, 0.0003, -0.0002, 0.0001, -0.0002, -0.0, -0.0003, 0.0001, 0.0003, 0.0001, 0.0003, -0.0003, 0.0, -0.0, 0.0003, 0.0002, -0.0003, 0.0003, -0.0003, 0.0003, 0.0002, -0.0, -0.0003, 0.0001, -0.0001, 0.0002, 0.0001, 0.0002, 0.0002, 0.0001, 0.0001, 0.0002, -0.0001, 0.0001, 0.0001, -0.0002, -0.0004, 0.0003, -0.0002, -0.0002, -0.0001, -0.0002, 0.0001, -0.0001, -0.0002, 0.0001, 0.0, -0.0, -0.0002, -0.0001, 0.0003, -0.0001, 0.0001, 0.0001, -0.0002, 0.0002, 0.0002, -0.0002, -0.0003, -0.0002, -0.0002, 0.0002, 0.0003, -0.0003, 0.0002, 0.0]))\n",
            "Row(vector=DenseVector([0.0, 0.0, -0.0, 0.0, 0.0, -0.0001, -0.0001, 0.0, -0.0001, 0.0, 0.0001, 0.0001, 0.0002, -0.0, 0.0, 0.0, 0.0001, 0.0, 0.0001, 0.0001, -0.0, 0.0001, 0.0, -0.0001, 0.0001, -0.0001, 0.0, 0.0, -0.0, 0.0001, 0.0001, -0.0001, -0.0, 0.0, 0.0001, -0.0001, 0.0001, 0.0001, -0.0001, -0.0001, -0.0, -0.0001, 0.0, 0.0001, -0.0, -0.0002, -0.0, -0.0001, 0.0002, 0.0001, 0.0001, -0.0, 0.0, 0.0002, 0.0, 0.0001, 0.0, -0.0, -0.0001, 0.0001, -0.0001, 0.0001, -0.0001, -0.0001, 0.0001, 0.0, 0.0001, 0.0, 0.0002, -0.0001, 0.0, 0.0001, 0.0001, 0.0003, 0.0, -0.0001, 0.0002, -0.0002, -0.0001, 0.0001, 0.0001, 0.0001, 0.0001, 0.0, 0.0, 0.0001, 0.0, -0.0001, 0.0001, 0.0001, 0.0001, -0.0, 0.0001, -0.0001, 0.0001, -0.0, -0.0002, -0.0, -0.0, 0.0002]))\n"
          ]
        }
      ]
    }
  ]
}